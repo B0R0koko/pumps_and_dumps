{
 "cells": [
  {
   "cell_type": "markdown",
   "metadata": {},
   "source": [
    "<h4>Features 11-04-2024</h4>"
   ]
  },
  {
   "cell_type": "code",
   "execution_count": 3,
   "metadata": {},
   "outputs": [],
   "source": [
    "from pathlib import Path\n",
    "from datetime import datetime, timedelta\n",
    "from dataclasses import dataclass\n",
    "from typing import *\n",
    "\n",
    "\n",
    "import polars as pl\n",
    "import pandas as pd\n",
    "import os\n",
    "import numpy as np\n",
    "import matplotlib.pyplot as plt\n",
    "\n",
    "\n",
    "ROOT_DIR = Path(os.getcwd()).parent"
   ]
  },
  {
   "cell_type": "code",
   "execution_count": 2,
   "metadata": {},
   "outputs": [],
   "source": [
    "@dataclass\n",
    "class PumpEvent:\n",
    "    pump_id: int\n",
    "    ticker: str\n",
    "    time: str\n",
    "    exchange: str\n",
    "\n",
    "    def __post_init__(self):\n",
    "        self.time: pd.Timestamp = pd.Timestamp(self.time)\n",
    "\n",
    "    def __str__(self):\n",
    "        return f\"Pump event: {self.ticker} - {str(self.time)} on {self.exchange}\""
   ]
  },
  {
   "cell_type": "markdown",
   "metadata": {},
   "source": [
    "<h4>Load data</h4>"
   ]
  },
  {
   "cell_type": "code",
   "execution_count": 3,
   "metadata": {},
   "outputs": [],
   "source": [
    "# data is organized by days\n",
    "pump = PumpEvent(\n",
    "    pump_id=1, ticker=\"DNTBTC\", time=\"2021-02-03 19:00:06\", exchange=\"binance\"\n",
    ")\n",
    "\n",
    "def load_data(pump: PumpEvent, lookback_delta: timedelta) -> pd.DataFrame:\n",
    "\n",
    "    start: pd.Timestamp = pump.time.floor(\"1h\")- lookback_delta\n",
    "    end: pd.Timestamp = pump.time.floor(\"1h\")\n",
    "\n",
    "    date_range: List[pd.Timestamp] = pd.date_range(\n",
    "        start=start,\n",
    "        end=end,\n",
    "        freq=\"D\",\n",
    "    ).tolist()\n",
    "\n",
    "    df: pd.DataFrame = pd.DataFrame()\n",
    "\n",
    "    for date in date_range:\n",
    "        file_name: str = f\"{pump.ticker}-trades-{date.date()}.parquet\"\n",
    "        df_date: pd.DataFrame = pd.read_parquet(\n",
    "            os.path.join(\n",
    "                ROOT_DIR, f\"data/trades_parquet/{pump.exchange}/{pump.ticker}\", file_name\n",
    "            )\n",
    "        )\n",
    "        df = pd.concat([df, df_date])\n",
    "\n",
    "    df[\"time\"] = pd.to_datetime(df[\"time\"], unit=\"ms\")\n",
    "\n",
    "    df = df[\n",
    "        (df[\"time\"] >= start) & (df[\"time\"] <= end)\n",
    "    ].reset_index(drop=True)\n",
    "\n",
    "    return df"
   ]
  },
  {
   "cell_type": "code",
   "execution_count": null,
   "metadata": {},
   "outputs": [],
   "source": [
    "# check if rounding logic is correct\n",
    "pump.time"
   ]
  },
  {
   "cell_type": "code",
   "execution_count": null,
   "metadata": {},
   "outputs": [],
   "source": [
    "pump.time.round(\"1h\") - timedelta(hours=1)"
   ]
  },
  {
   "cell_type": "code",
   "execution_count": 4,
   "metadata": {},
   "outputs": [
    {
     "data": {
      "text/html": [
       "<div>\n",
       "<style scoped>\n",
       "    .dataframe tbody tr th:only-of-type {\n",
       "        vertical-align: middle;\n",
       "    }\n",
       "\n",
       "    .dataframe tbody tr th {\n",
       "        vertical-align: top;\n",
       "    }\n",
       "\n",
       "    .dataframe thead th {\n",
       "        text-align: right;\n",
       "    }\n",
       "</style>\n",
       "<table border=\"1\" class=\"dataframe\">\n",
       "  <thead>\n",
       "    <tr style=\"text-align: right;\">\n",
       "      <th></th>\n",
       "      <th>price</th>\n",
       "      <th>qty</th>\n",
       "      <th>time</th>\n",
       "      <th>isBuyerMaker</th>\n",
       "      <th>quote</th>\n",
       "    </tr>\n",
       "  </thead>\n",
       "  <tbody>\n",
       "    <tr>\n",
       "      <th>0</th>\n",
       "      <td>0.000001</td>\n",
       "      <td>1882.0</td>\n",
       "      <td>2021-01-04 19:04:10.774</td>\n",
       "      <td>True</td>\n",
       "      <td>0.002691</td>\n",
       "    </tr>\n",
       "    <tr>\n",
       "      <th>1</th>\n",
       "      <td>0.000001</td>\n",
       "      <td>3873.0</td>\n",
       "      <td>2021-01-04 19:04:10.774</td>\n",
       "      <td>True</td>\n",
       "      <td>0.005538</td>\n",
       "    </tr>\n",
       "    <tr>\n",
       "      <th>2</th>\n",
       "      <td>0.000001</td>\n",
       "      <td>3337.0</td>\n",
       "      <td>2021-01-04 19:04:10.774</td>\n",
       "      <td>True</td>\n",
       "      <td>0.004772</td>\n",
       "    </tr>\n",
       "    <tr>\n",
       "      <th>3</th>\n",
       "      <td>0.000001</td>\n",
       "      <td>2289.0</td>\n",
       "      <td>2021-01-04 19:04:10.774</td>\n",
       "      <td>True</td>\n",
       "      <td>0.003273</td>\n",
       "    </tr>\n",
       "    <tr>\n",
       "      <th>4</th>\n",
       "      <td>0.000001</td>\n",
       "      <td>113.0</td>\n",
       "      <td>2021-01-04 19:05:13.068</td>\n",
       "      <td>False</td>\n",
       "      <td>0.000163</td>\n",
       "    </tr>\n",
       "  </tbody>\n",
       "</table>\n",
       "</div>"
      ],
      "text/plain": [
       "      price     qty                    time  isBuyerMaker     quote\n",
       "0  0.000001  1882.0 2021-01-04 19:04:10.774          True  0.002691\n",
       "1  0.000001  3873.0 2021-01-04 19:04:10.774          True  0.005538\n",
       "2  0.000001  3337.0 2021-01-04 19:04:10.774          True  0.004772\n",
       "3  0.000001  2289.0 2021-01-04 19:04:10.774          True  0.003273\n",
       "4  0.000001   113.0 2021-01-04 19:05:13.068         False  0.000163"
      ]
     },
     "execution_count": 4,
     "metadata": {},
     "output_type": "execute_result"
    }
   ],
   "source": [
    "df: pd.DataFrame = load_data(pump=pump, lookback_delta=timedelta(days=30))\n",
    "df[\"quote\"] = df[\"price\"] * df[\"qty\"]\n",
    "df.head()"
   ]
  },
  {
   "cell_type": "code",
   "execution_count": 5,
   "metadata": {},
   "outputs": [
    {
     "data": {
      "text/html": [
       "<div>\n",
       "<style scoped>\n",
       "    .dataframe tbody tr th:only-of-type {\n",
       "        vertical-align: middle;\n",
       "    }\n",
       "\n",
       "    .dataframe tbody tr th {\n",
       "        vertical-align: top;\n",
       "    }\n",
       "\n",
       "    .dataframe thead th {\n",
       "        text-align: right;\n",
       "    }\n",
       "</style>\n",
       "<table border=\"1\" class=\"dataframe\">\n",
       "  <thead>\n",
       "    <tr style=\"text-align: right;\">\n",
       "      <th></th>\n",
       "      <th>price</th>\n",
       "      <th>qty</th>\n",
       "      <th>time</th>\n",
       "      <th>isBuyerMaker</th>\n",
       "      <th>quote</th>\n",
       "    </tr>\n",
       "  </thead>\n",
       "  <tbody>\n",
       "  </tbody>\n",
       "</table>\n",
       "</div>"
      ],
      "text/plain": [
       "Empty DataFrame\n",
       "Columns: [price, qty, time, isBuyerMaker, quote]\n",
       "Index: []"
      ]
     },
     "execution_count": 5,
     "metadata": {},
     "output_type": "execute_result"
    }
   ],
   "source": [
    "df[df[\"time\"] >= pump.time]"
   ]
  },
  {
   "cell_type": "markdown",
   "metadata": {},
   "source": [
    "<h4>Create features</h4>\n",
    "\n",
    "<p>Create trades from ticks by aggregation by time </p>"
   ]
  },
  {
   "cell_type": "code",
   "execution_count": 6,
   "metadata": {},
   "outputs": [
    {
     "data": {
      "text/html": [
       "<div>\n",
       "<style scoped>\n",
       "    .dataframe tbody tr th:only-of-type {\n",
       "        vertical-align: middle;\n",
       "    }\n",
       "\n",
       "    .dataframe tbody tr th {\n",
       "        vertical-align: top;\n",
       "    }\n",
       "\n",
       "    .dataframe thead th {\n",
       "        text-align: right;\n",
       "    }\n",
       "</style>\n",
       "<table border=\"1\" class=\"dataframe\">\n",
       "  <thead>\n",
       "    <tr style=\"text-align: right;\">\n",
       "      <th></th>\n",
       "      <th>time</th>\n",
       "      <th>price_first</th>\n",
       "      <th>price_last</th>\n",
       "      <th>price_max</th>\n",
       "      <th>price_min</th>\n",
       "      <th>qty_sign</th>\n",
       "      <th>qty_abs</th>\n",
       "      <th>quote_sign</th>\n",
       "      <th>quote_abs</th>\n",
       "    </tr>\n",
       "  </thead>\n",
       "  <tbody>\n",
       "    <tr>\n",
       "      <th>0</th>\n",
       "      <td>2021-01-04 19:04:10.774</td>\n",
       "      <td>0.000001</td>\n",
       "      <td>0.000001</td>\n",
       "      <td>0.000001</td>\n",
       "      <td>0.000001</td>\n",
       "      <td>-11381.0</td>\n",
       "      <td>11381.0</td>\n",
       "      <td>-0.016275</td>\n",
       "      <td>0.016275</td>\n",
       "    </tr>\n",
       "    <tr>\n",
       "      <th>1</th>\n",
       "      <td>2021-01-04 19:05:13.068</td>\n",
       "      <td>0.000001</td>\n",
       "      <td>0.000001</td>\n",
       "      <td>0.000001</td>\n",
       "      <td>0.000001</td>\n",
       "      <td>113.0</td>\n",
       "      <td>113.0</td>\n",
       "      <td>0.000163</td>\n",
       "      <td>0.000163</td>\n",
       "    </tr>\n",
       "  </tbody>\n",
       "</table>\n",
       "</div>"
      ],
      "text/plain": [
       "                     time  price_first  price_last  price_max  price_min  \\\n",
       "0 2021-01-04 19:04:10.774     0.000001    0.000001   0.000001   0.000001   \n",
       "1 2021-01-04 19:05:13.068     0.000001    0.000001   0.000001   0.000001   \n",
       "\n",
       "   qty_sign  qty_abs  quote_sign  quote_abs  \n",
       "0  -11381.0  11381.0   -0.016275   0.016275  \n",
       "1     113.0    113.0    0.000163   0.000163  "
      ]
     },
     "execution_count": 6,
     "metadata": {},
     "output_type": "execute_result"
    }
   ],
   "source": [
    "df[\"qty_sign\"] = (1 - 2 * df[\"isBuyerMaker\"]) * df[\"qty\"]\n",
    "df[\"quote_sign\"] = (1 - 2 * df[\"isBuyerMaker\"]) * df[\"quote\"]\n",
    "\n",
    "df_trades: pd.DataFrame = df.groupby(\"time\").agg(\n",
    "    price_first=(\"price\", \"first\"),\n",
    "    price_last=(\"price\", \"last\"),\n",
    "    price_max=(\"price\", \"max\"),\n",
    "    price_min=(\"price\", \"min\"),\n",
    "    qty_sign=(\"qty_sign\", \"sum\"),\n",
    "    qty_abs=(\"qty\", \"sum\"),\n",
    "    quote_sign=(\"quote_sign\", \"sum\"),\n",
    "    quote_abs=(\"quote\", \"sum\"),\n",
    "    # Add BTC slippage\n",
    ")\n",
    "\n",
    "df_trades = df_trades.reset_index()\n",
    "df_trades.head(2)"
   ]
  },
  {
   "cell_type": "markdown",
   "metadata": {},
   "source": [
    "<h4>Calculate Exchange volume features</h4>"
   ]
  },
  {
   "cell_type": "code",
   "execution_count": 7,
   "metadata": {},
   "outputs": [
    {
     "data": {
      "text/html": [
       "<div>\n",
       "<style scoped>\n",
       "    .dataframe tbody tr th:only-of-type {\n",
       "        vertical-align: middle;\n",
       "    }\n",
       "\n",
       "    .dataframe tbody tr th {\n",
       "        vertical-align: top;\n",
       "    }\n",
       "\n",
       "    .dataframe thead th {\n",
       "        text-align: right;\n",
       "    }\n",
       "</style>\n",
       "<table border=\"1\" class=\"dataframe\">\n",
       "  <thead>\n",
       "    <tr style=\"text-align: right;\">\n",
       "      <th></th>\n",
       "      <th>name</th>\n",
       "      <th>symbol</th>\n",
       "      <th>slug</th>\n",
       "      <th>cmc_rank</th>\n",
       "      <th>mcap_usdt</th>\n",
       "      <th>mcap_btc</th>\n",
       "      <th>snapshot</th>\n",
       "      <th>trading_volume_usdt</th>\n",
       "      <th>trading_volume_btc</th>\n",
       "      <th>date</th>\n",
       "    </tr>\n",
       "  </thead>\n",
       "  <tbody>\n",
       "    <tr>\n",
       "      <th>0</th>\n",
       "      <td>Bitcoin</td>\n",
       "      <td>BTC</td>\n",
       "      <td>bitcoin</td>\n",
       "      <td>1</td>\n",
       "      <td>1.605041e+10</td>\n",
       "      <td>1.665571e+07</td>\n",
       "      <td>20170101</td>\n",
       "      <td>1.477752e+08</td>\n",
       "      <td>153348.114011</td>\n",
       "      <td>2017-01-01</td>\n",
       "    </tr>\n",
       "    <tr>\n",
       "      <th>420</th>\n",
       "      <td>Evotion</td>\n",
       "      <td>EVO</td>\n",
       "      <td>evotion</td>\n",
       "      <td>421</td>\n",
       "      <td>5.026011e+03</td>\n",
       "      <td>5.215554e+00</td>\n",
       "      <td>20170101</td>\n",
       "      <td>2.010798e+00</td>\n",
       "      <td>0.002087</td>\n",
       "      <td>2017-01-01</td>\n",
       "    </tr>\n",
       "  </tbody>\n",
       "</table>\n",
       "</div>"
      ],
      "text/plain": [
       "        name symbol     slug  cmc_rank     mcap_usdt      mcap_btc  snapshot  \\\n",
       "0    Bitcoin    BTC  bitcoin         1  1.605041e+10  1.665571e+07  20170101   \n",
       "420  Evotion    EVO  evotion       421  5.026011e+03  5.215554e+00  20170101   \n",
       "\n",
       "     trading_volume_usdt  trading_volume_btc       date  \n",
       "0           1.477752e+08       153348.114011 2017-01-01  \n",
       "420         2.010798e+00            0.002087 2017-01-01  "
      ]
     },
     "execution_count": 7,
     "metadata": {},
     "output_type": "execute_result"
    }
   ],
   "source": [
    "df_cmc: pd.DataFrame = pd.read_parquet(\n",
    "    os.path.join(ROOT_DIR, \"data/cmc/cmc_snapshots.parquet\")\n",
    ")\n",
    "\n",
    "df_cmc[\"date\"] = pd.to_datetime(df_cmc[\"snapshot\"], format=\"%Y%m%d\")\n",
    "df_cmc = df_cmc.sort_values(by=\"date\", ascending=True)\n",
    "\n",
    "df_cmc.head(2)"
   ]
  },
  {
   "cell_type": "code",
   "execution_count": 8,
   "metadata": {},
   "outputs": [],
   "source": [
    "# leave only the ticker of interest during the pump time\n",
    "df_cmc_ticker: pd.DataFrame = df_cmc[\n",
    "    (df_cmc[\"symbol\"] == \"DNT\") &\n",
    "    (df_cmc[\"date\"] < pump.time.floor(\"1d\")) &\n",
    "    (df_cmc[\"date\"] >= pump.time.floor(\"1d\") - timedelta(days=30))\n",
    "].copy()"
   ]
  },
  {
   "cell_type": "code",
   "execution_count": null,
   "metadata": {},
   "outputs": [],
   "source": [
    "daily_exchange_vol_features = {}\n",
    "\n",
    "df_trades[\"date\"] = df_trades[\"time\"].dt.floor(\"1d\")\n",
    "\n",
    "df_daily_vol: pd.DataFrame = (\n",
    "    df_trades.groupby(\"date\")[\"quote_abs\"].sum().to_frame().reset_index()\n",
    ")\n",
    "df_daily_vol = df_daily_vol[\n",
    "    df_daily_vol[\"date\"] < pump.time.floor(\"1d\")\n",
    "].copy()\n",
    "\n",
    "df_daily_vol = df_daily_vol.merge(\n",
    "    df_cmc_ticker[[\"date\", \"trading_volume_btc\"]], on=\"date\", how=\"left\"\n",
    ")\n",
    "\n",
    "df_daily_vol[\"daily_exchange_volume_share\"] = df_daily_vol[\"quote_abs\"] / df_daily_vol[\"trading_volume_btc\"]\n",
    "\n",
    "window_sizes: List[timedelta] = [\n",
    "    timedelta(days=3),\n",
    "    timedelta(days=7),\n",
    "    timedelta(days=14),\n",
    "    timedelta(days=30)\n",
    "]\n",
    "\n",
    "window_names: List[str] = [\n",
    "    \"3d\", \"7d\", \"14d\", \"30d\"\n",
    "]\n",
    "\n",
    "for window_size, window_name in zip(window_sizes, window_names):\n",
    "    df_window: pd.DataFrame = df_daily_vol[\n",
    "        (df_daily_vol[\"date\"] >= pump.time.floor(\"1d\") - window_size) &\n",
    "        (df_daily_vol[\"date\"] < pump.time.floor(\"1d\")) # unnecessary just to make sure\n",
    "    ].copy()\n",
    "\n",
    "    daily_exchange_vol_features[f\"daily_exchange_volume_share_{window_name}_mean\"] = (\n",
    "        df_window[\"daily_exchange_volume_share\"].mean() \n",
    "    )\n",
    "    daily_exchange_vol_features[f\"daily_exchange_volume_share_{window_name}_std\"] = (\n",
    "        df_window[\"daily_exchange_volume_share\"].std() \n",
    "    )"
   ]
  },
  {
   "cell_type": "code",
   "execution_count": null,
   "metadata": {},
   "outputs": [],
   "source": [
    "daily_exchange_vol_features"
   ]
  },
  {
   "cell_type": "code",
   "execution_count": null,
   "metadata": {},
   "outputs": [],
   "source": [
    "# calculate daily volume in BTC\n",
    "df_trades[\"date\"] = df_trades[\"time\"].dt.floor(\"1d\")\n",
    "df_trades.head(2)"
   ]
  },
  {
   "cell_type": "code",
   "execution_count": null,
   "metadata": {},
   "outputs": [],
   "source": [
    "pump.time"
   ]
  },
  {
   "cell_type": "code",
   "execution_count": null,
   "metadata": {},
   "outputs": [],
   "source": [
    "df_daily_vol: pd.DataFrame = (\n",
    "    df_trades.groupby(\"date\")[\"quote_abs\"].sum().to_frame().reset_index()\n",
    ")\n",
    "\n",
    "df_daily_vol = df_daily_vol[\n",
    "    df_daily_vol[\"date\"] < pump.time.floor(\"1d\")\n",
    "].copy()"
   ]
  },
  {
   "cell_type": "code",
   "execution_count": null,
   "metadata": {},
   "outputs": [],
   "source": [
    "df_daily_vol.tail()"
   ]
  },
  {
   "cell_type": "code",
   "execution_count": null,
   "metadata": {},
   "outputs": [],
   "source": [
    "df_daily_vol = df_daily_vol.merge(\n",
    "    df_cmc_ticker[[\"date\", \"trading_volume_btc\"]], on=\"date\", how=\"left\"\n",
    ")"
   ]
  },
  {
   "cell_type": "code",
   "execution_count": null,
   "metadata": {},
   "outputs": [],
   "source": [
    "df_daily_vol"
   ]
  },
  {
   "cell_type": "code",
   "execution_count": null,
   "metadata": {},
   "outputs": [],
   "source": [
    "df_daily_vol[\"daily_exchange_volume_share\"] = df_daily_vol[\"quote_abs\"] / df_daily_vol[\"trading_volume_btc\"]\n",
    "\n",
    "df_daily_vol.plot(\n",
    "    x=\"date\", y=\"daily_exchange_volume_share\"\n",
    ")\n",
    "\n",
    "plt.axvline(x=pump.time.floor(\"1d\"), color=\"red\")\n",
    "plt.show()"
   ]
  },
  {
   "cell_type": "code",
   "execution_count": null,
   "metadata": {},
   "outputs": [],
   "source": [
    "df_daily_vol[\n",
    "    (df_daily_vol[\"date\"] >= pump.time.floor(\"1d\") - timedelta(days=7)) &\n",
    "    (df_daily_vol[\"date\"] < pump.time.floor(\"1d\"))\n",
    "]"
   ]
  },
  {
   "cell_type": "markdown",
   "metadata": {},
   "source": [
    "<h4>BTC slippage</h4>\n",
    "\n",
    "$$\\text{BTC\\_lost\\_to\\_slippage} = \\underbrace{\\sum_{i=1}^{N}{\\text{qty\\_sign}_i} \\cdot P_i}_{\\text{Quote actually spent}} - \\underbrace{\\sum_{i=1}^N{\\text{qty\\_sign}_i} \\cdot P_0}_{\\text{Quote could have been spent if filled at best price}}$$"
   ]
  },
  {
   "cell_type": "code",
   "execution_count": null,
   "metadata": {},
   "outputs": [],
   "source": [
    "df_trades[\"quote_slippage\"] = df_trades[\"quote_sign\"] - df_trades[\"qty_sign\"] * df_trades[\"price_first\"]\n",
    "\n",
    "df_trades[\"quote_slippage\"].cumsum().plot()\n",
    "plt.show()"
   ]
  },
  {
   "cell_type": "code",
   "execution_count": null,
   "metadata": {},
   "outputs": [],
   "source": [
    "# Slippage imbalance ratio\n",
    "window_names: List[str] = [\n",
    "    \"1d\", \"7d\", \"14d\", \"30d\"\n",
    "]\n",
    "window_sizes: List[timedelta] = [\n",
    "    timedelta(days=1), timedelta(days=7), timedelta(days=14), timedelta(days=30)\n",
    "]\n",
    "\n",
    "slippage_features: Dict[str, float] = {}\n",
    "\n",
    "for window_size, window_name in zip(window_sizes, window_names):\n",
    "    df_window: pd.DataFrame = df_trades[\n",
    "        (df_trades[\"time\"] >= pump.time.floor(\"1h\") - window_size) &\n",
    "        (df_trades[\"time\"] <= pump.time.floor(\"1h\"))\n",
    "    ].copy()\n",
    "\n",
    "    quote_slippage_net: float = (df_window[\"quote_slippage\"] * np.sign(df_window[\"qty_sign\"])).sum()\n",
    "    quote_slippage_abs: float = df_window[\"quote_slippage\"].sum()\n",
    "\n",
    "    slippage_features[f\"slippage_imbalance_ratio_{window_name}\"] = quote_slippage_net / quote_slippage_abs"
   ]
  }
 ],
 "metadata": {
  "kernelspec": {
   "display_name": "env",
   "language": "python",
   "name": "python3"
  },
  "language_info": {
   "codemirror_mode": {
    "name": "ipython",
    "version": 3
   },
   "file_extension": ".py",
   "mimetype": "text/x-python",
   "name": "python",
   "nbconvert_exporter": "python",
   "pygments_lexer": "ipython3",
   "version": "3.12.1"
  }
 },
 "nbformat": 4,
 "nbformat_minor": 2
}
