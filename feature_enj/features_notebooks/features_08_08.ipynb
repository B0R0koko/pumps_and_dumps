{
 "cells": [
  {
   "cell_type": "markdown",
   "metadata": {},
   "source": [
    "<h4>Features 08-08-2024</h4>"
   ]
  },
  {
   "cell_type": "code",
   "execution_count": 1,
   "metadata": {},
   "outputs": [],
   "source": [
    "from pathlib import Path\n",
    "from datetime import datetime, timedelta\n",
    "from dataclasses import dataclass\n",
    "from typing import *\n",
    "from tqdm import tqdm\n",
    "\n",
    "\n",
    "import polars as pl\n",
    "import pandas as pd\n",
    "import os\n",
    "import numpy as np\n",
    "import seaborn as sns\n",
    "import matplotlib.pyplot as plt\n",
    "\n",
    "\n",
    "ROOT_DIR = Path(os.getcwd()).parent.parent"
   ]
  },
  {
   "cell_type": "code",
   "execution_count": 2,
   "metadata": {},
   "outputs": [],
   "source": [
    "@dataclass\n",
    "class PumpEvent:\n",
    "    pump_id: int\n",
    "    ticker: str\n",
    "    time: str\n",
    "    exchange: str\n",
    "\n",
    "    def __post_init__(self):\n",
    "        self.time: pd.Timestamp = pd.Timestamp(self.time)\n",
    "\n",
    "    def __str__(self):\n",
    "        return f\"Pump event: {self.ticker} - {str(self.time)} on {self.exchange}\""
   ]
  },
  {
   "cell_type": "code",
   "execution_count": 3,
   "metadata": {},
   "outputs": [],
   "source": [
    "# data is organized by days\n",
    "pump = PumpEvent(\n",
    "    pump_id=1, ticker=\"VIABTC\", time=\"2019-02-03 15:04:00\", exchange=\"binance\"\n",
    ")\n",
    "\n",
    "def load_data(pump: PumpEvent, lookback_delta: timedelta) -> pd.DataFrame:\n",
    "\n",
    "    end: pd.Timestamp = pump.time.round(\"1h\") - timedelta(hours=1)\n",
    "    start: pd.Timestamp = end - lookback_delta\n",
    "    \n",
    "    date_range: List[pd.Timestamp] = pd.date_range(\n",
    "        start=start,\n",
    "        end=end, freq=\"D\",\n",
    "        inclusive=\"both\"\n",
    "    ).tolist()\n",
    "\n",
    "    df: pd.DataFrame = pd.DataFrame()\n",
    "\n",
    "    for date in tqdm(date_range):\n",
    "        try:\n",
    "            file_name: str = f\"{pump.ticker}-trades-{date.date()}.parquet\"\n",
    "            df_date: pd.DataFrame = pd.read_parquet(\n",
    "                os.path.join(ROOT_DIR, f\"data/trades_parquet/{pump.exchange}/{pump.ticker}\", file_name)\n",
    "            )\n",
    "        except FileNotFoundError:\n",
    "            continue\n",
    "            \n",
    "        df = pd.concat([df, df_date])\n",
    "\n",
    "    df[\"time\"] = pd.to_datetime(df[\"time\"], unit=\"ms\")\n",
    "    df = df[(df[\"time\"] >= start) & (df[\"time\"] <= end)].reset_index(drop=True)\n",
    "\n",
    "    return df"
   ]
  },
  {
   "cell_type": "code",
   "execution_count": 4,
   "metadata": {},
   "outputs": [
    {
     "name": "stderr",
     "output_type": "stream",
     "text": [
      "100%|██████████| 31/31 [00:00<00:00, 433.09it/s]\n"
     ]
    }
   ],
   "source": [
    "df = load_data(pump=pump, lookback_delta=timedelta(days=30))\n",
    "df[\"quote\"] = df[\"qty\"] * df[\"price\"]"
   ]
  },
  {
   "cell_type": "code",
   "execution_count": 5,
   "metadata": {},
   "outputs": [
    {
     "data": {
      "text/html": [
       "<div>\n",
       "<style scoped>\n",
       "    .dataframe tbody tr th:only-of-type {\n",
       "        vertical-align: middle;\n",
       "    }\n",
       "\n",
       "    .dataframe tbody tr th {\n",
       "        vertical-align: top;\n",
       "    }\n",
       "\n",
       "    .dataframe thead th {\n",
       "        text-align: right;\n",
       "    }\n",
       "</style>\n",
       "<table border=\"1\" class=\"dataframe\">\n",
       "  <thead>\n",
       "    <tr style=\"text-align: right;\">\n",
       "      <th></th>\n",
       "      <th>time</th>\n",
       "      <th>price_first</th>\n",
       "      <th>price_last</th>\n",
       "      <th>price_max</th>\n",
       "      <th>price_min</th>\n",
       "      <th>qty_sign</th>\n",
       "      <th>qty_abs</th>\n",
       "      <th>quote_sign</th>\n",
       "      <th>quote_abs</th>\n",
       "      <th>is_long</th>\n",
       "      <th>quote_long</th>\n",
       "      <th>quote_short</th>\n",
       "    </tr>\n",
       "  </thead>\n",
       "  <tbody>\n",
       "    <tr>\n",
       "      <th>0</th>\n",
       "      <td>2019-01-04 14:11:13.875</td>\n",
       "      <td>0.000082</td>\n",
       "      <td>0.000082</td>\n",
       "      <td>0.000082</td>\n",
       "      <td>0.000082</td>\n",
       "      <td>719.12</td>\n",
       "      <td>719.12</td>\n",
       "      <td>0.058994</td>\n",
       "      <td>0.058994</td>\n",
       "      <td>True</td>\n",
       "      <td>0.058994</td>\n",
       "      <td>0.0</td>\n",
       "    </tr>\n",
       "    <tr>\n",
       "      <th>1</th>\n",
       "      <td>2019-01-04 14:11:13.876</td>\n",
       "      <td>0.000082</td>\n",
       "      <td>0.000082</td>\n",
       "      <td>0.000082</td>\n",
       "      <td>0.000082</td>\n",
       "      <td>169.61</td>\n",
       "      <td>169.61</td>\n",
       "      <td>0.013925</td>\n",
       "      <td>0.013925</td>\n",
       "      <td>True</td>\n",
       "      <td>0.013925</td>\n",
       "      <td>0.0</td>\n",
       "    </tr>\n",
       "  </tbody>\n",
       "</table>\n",
       "</div>"
      ],
      "text/plain": [
       "                     time  price_first  price_last  price_max  price_min  \\\n",
       "0 2019-01-04 14:11:13.875     0.000082    0.000082   0.000082   0.000082   \n",
       "1 2019-01-04 14:11:13.876     0.000082    0.000082   0.000082   0.000082   \n",
       "\n",
       "   qty_sign  qty_abs  quote_sign  quote_abs  is_long  quote_long  quote_short  \n",
       "0    719.12   719.12    0.058994   0.058994     True    0.058994          0.0  \n",
       "1    169.61   169.61    0.013925   0.013925     True    0.013925          0.0  "
      ]
     },
     "execution_count": 5,
     "metadata": {},
     "output_type": "execute_result"
    }
   ],
   "source": [
    "df[\"qty_sign\"] = (1 - 2 * df[\"isBuyerMaker\"]) * df[\"qty\"]\n",
    "df[\"quote_sign\"] = (1 - 2 * df[\"isBuyerMaker\"]) * df[\"quote\"]\n",
    "\n",
    "# Aggregate by time into rush orders\n",
    "df_trades: pd.DataFrame = df.groupby(\"time\").agg(\n",
    "    price_first=(\"price\", \"first\"),\n",
    "    price_last=(\"price\", \"last\"),\n",
    "    price_max=(\"price\", \"max\"),\n",
    "    price_min=(\"price\", \"min\"),\n",
    "    qty_sign=(\"qty_sign\", \"sum\"),\n",
    "    qty_abs=(\"qty\", \"sum\"),\n",
    "    quote_sign=(\"quote_sign\", \"sum\"),\n",
    "    quote_abs=(\"quote\", \"sum\"),\n",
    ")\n",
    "\n",
    "df_trades[\"is_long\"] = df_trades[\"qty_sign\"] >= 0 # is buyer\n",
    "df_trades[\"quote_long\"] = df_trades[\"quote_abs\"] * df_trades[\"is_long\"] # quote volume for longs\n",
    "df_trades[\"quote_short\"] = df_trades[\"quote_abs\"] * ~df_trades[\"is_long\"] # quote volume for shorts\n",
    " \n",
    "df_trades = df_trades.reset_index()\n",
    "df_trades.head(2)"
   ]
  },
  {
   "cell_type": "markdown",
   "metadata": {},
   "source": [
    "<h4>Slippages</h4>\n",
    "\n",
    "$$\n",
    "\\text{Slippage Loss} = \\underbrace{\\sum_{i=1}^{N}{\\text{qty\\_sign}_i} \\cdot P_i}_{\\text{Quote actually spent}} \\: - \\underbrace{\\sum_{i=1}^N{\\text{qty\\_sign}_i} \\cdot P_0}_{\\substack{\\text{Quote could have been spent} \\\\ \\text{if filled at best price}}}\n",
    "$$\n",
    "\n",
    "This formula calculates the slippage loss as the difference between quote we actually spent and quote amount we would have paid if we were able to execute at the best bid or ask price (depending on the side of the trade)"
   ]
  },
  {
   "cell_type": "code",
   "execution_count": 6,
   "metadata": {},
   "outputs": [],
   "source": [
    "# calculate slippages\n",
    "df_trades[\"quote_slippage_abs\"] = np.abs(\n",
    "    df_trades[\"quote_abs\"] - df_trades[\"qty_abs\"] * df_trades[\"price_first\"]\n",
    ")\n",
    "df_trades[\"quote_slippage_sign\"] = df_trades[\"quote_slippage_abs\"] * np.sign(df_trades[\"qty_sign\"])\n",
    "df_trades[\"quote_slippage_long\"] = df_trades[\"quote_slippage_abs\"] * df_trades[\"is_long\"]"
   ]
  },
  {
   "cell_type": "markdown",
   "metadata": {},
   "source": [
    "<h4>Liquidity measure</h4>"
   ]
  },
  {
   "cell_type": "markdown",
   "metadata": {},
   "source": [
    "<h4>OLS regression of quote_slippage_abs on quote_abs</h4>"
   ]
  },
  {
   "cell_type": "code",
   "execution_count": 7,
   "metadata": {},
   "outputs": [],
   "source": [
    "from statsmodels.regression.linear_model import OLS\n",
    "from statsmodels.tools.tools import add_constant\n",
    "\n",
    "\n",
    "X = df_trades[\"quote_abs\"]\n",
    "X = add_constant(X)\n",
    "\n",
    "Y = df_trades[\"quote_slippage_abs\"]\n",
    "\n",
    "model = OLS(exog=X, endog=Y).fit()\n",
    "\n",
    "a, b = model.params"
   ]
  },
  {
   "cell_type": "markdown",
   "metadata": {},
   "source": [
    "$\\mathbb{E}(Y | X)$"
   ]
  },
  {
   "cell_type": "code",
   "execution_count": 8,
   "metadata": {},
   "outputs": [
    {
     "data": {
      "image/png": "[encoded data removed]",
      "text/plain": [
       "<Figure size 640x480 with 1 Axes>"
      ]
     },
     "metadata": {},
     "output_type": "display_data"
    }
   ],
   "source": [
    "X = np.linspace(0, df_trades[\"quote_abs\"].max(), 1000)\n",
    "Y = a + b * X\n",
    "\n",
    "df_trades.plot.scatter(y=\"quote_slippage_abs\", x=\"quote_abs\")\n",
    "\n",
    "plt.plot(X, Y, color=\"red\")\n",
    "plt.title(f\"b = {b:.5f}\")\n",
    "plt.show()"
   ]
  },
  {
   "cell_type": "markdown",
   "metadata": {},
   "source": [
    "$\\mathbb{E}(Y | X, Y > 0)$"
   ]
  },
  {
   "cell_type": "code",
   "execution_count": 9,
   "metadata": {},
   "outputs": [],
   "source": [
    "df_slip = df_trades[df_trades[\"quote_slippage_abs\"] > 0].copy()\n",
    "\n",
    "X = df_slip[\"quote_abs\"]\n",
    "X = add_constant(X)\n",
    "\n",
    "Y = df_slip[\"quote_slippage_abs\"]\n",
    "\n",
    "model = OLS(exog=X, endog=Y).fit()\n",
    "\n",
    "a, b = model.params"
   ]
  },
  {
   "cell_type": "code",
   "execution_count": 10,
   "metadata": {},
   "outputs": [
    {
     "data": {
      "image/png": "[encoded data removed]",
      "text/plain": [
       "<Figure size 640x480 with 1 Axes>"
      ]
     },
     "metadata": {},
     "output_type": "display_data"
    }
   ],
   "source": [
    "X = np.linspace(0, df_slip[\"quote_abs\"].max(), 1000)\n",
    "Y = a + b * X\n",
    "\n",
    "df_trades.plot.scatter(y=\"quote_slippage_abs\", x=\"quote_abs\")\n",
    "\n",
    "plt.plot(X, Y, color=\"red\")\n",
    "plt.title(f\"b = {b:.5f}\")\n",
    "plt.show()"
   ]
  },
  {
   "cell_type": "code",
   "execution_count": 11,
   "metadata": {},
   "outputs": [],
   "source": [
    "def calculate_linear_liquidity_index(df_trades: pd.DataFrame) -> float:\n",
    "    X = df_trades[\"quote_abs\"]\n",
    "    X = add_constant(X)\n",
    "\n",
    "    Y = df_trades[\"quote_slippage_abs\"]\n",
    "\n",
    "    model = OLS(exog=X, endog=Y).fit()\n",
    "    a, b = model.params\n",
    "\n",
    "    return b"
   ]
  },
  {
   "cell_type": "code",
   "execution_count": 12,
   "metadata": {},
   "outputs": [],
   "source": [
    "time_ub: pd.Timestamp = pump.time.round(\"1h\") - timedelta(hours=1)"
   ]
  },
  {
   "cell_type": "code",
   "execution_count": 13,
   "metadata": {},
   "outputs": [
    {
     "data": {
      "text/plain": [
       "{'linear_liquidity_slope_1h': 0.0004585759115306275,\n",
       " 'linear_liquidity_slope_6h': 0.0005576804255115289,\n",
       " 'linear_liquidity_slope_24h': 0.012011708043641413,\n",
       " 'linear_liquidity_slope_48h': 0.010335141690241948,\n",
       " 'linear_liquidity_slope_72h': 0.009188689004716488,\n",
       " 'linear_liquidity_slope_168h': 0.006487697731341743,\n",
       " 'linear_liquidity_slope_336h': 0.007198590695728365}"
      ]
     },
     "execution_count": 13,
     "metadata": {},
     "output_type": "execute_result"
    }
   ],
   "source": [
    "hour_offsets: List[int] = [1, 6, 24, 48, 72, 7*24, 14*24]\n",
    "\n",
    "liquidity_features: Dict[str, float] = {}\n",
    "\n",
    "for offset in hour_offsets:\n",
    "    df_window: pd.DataFrame = df_slip[df_slip[\"time\"] >= time_ub - timedelta(hours=offset)].copy()\n",
    "    liquidity_features[f\"linear_liquidity_slope_{offset}h\"] = calculate_linear_liquidity_index(df_trades=df_window)\n",
    "\n",
    "liquidity_features"
   ]
  },
  {
   "cell_type": "markdown",
   "metadata": {},
   "source": [
    "<h4>Order quote size affect on probability of slippage</h4>"
   ]
  },
  {
   "cell_type": "code",
   "execution_count": 14,
   "metadata": {},
   "outputs": [],
   "source": [
    "def regress_proba_slippage_on_quote_abs(df_trades: pd.DataFrame) -> Tuple[float, float, pd.DataFrame]:\n",
    "    \"\"\"Compute the effect of quote_abs size on probability that the final trade will be executed with some slippage\"\"\"\n",
    "    bins = np.arange(0, df_trades[\"quote_abs\"].max(), 0.001)\n",
    "    \n",
    "    df_trades[\"quote_abs_bin\"] = pd.cut(df_trades[\"quote_abs\"], bins=bins)\n",
    "    df_trades[\"quote_abs_bin\"] = df_trades[\"quote_abs_bin\"].apply(lambda x: x.right)\n",
    "\n",
    "    df_trades[\"has_slippage\"] = df_trades[\"quote_slippage_abs\"] > 0 \n",
    "\n",
    "    # Compute probas for all bins\n",
    "    probas: List[dict] = []\n",
    "\n",
    "    for bin, df_bin in df_trades.groupby(\"quote_abs_bin\", observed=True):\n",
    "\n",
    "        if df_bin.shape[0] >= 10:\n",
    "            probas.append({\n",
    "                \"quote_bin\": bin,\n",
    "                \"slippage_proba\": df_bin[\"has_slippage\"].mean() # compute the share of trades with any slippage within this bin\n",
    "            })\n",
    "\n",
    "    df_probas = pd.DataFrame(probas)\n",
    "\n",
    "    # Regress\n",
    "    X = df_probas[\"quote_bin\"]\n",
    "    X = add_constant(X)\n",
    "    Y = df_probas[\"slippage_proba\"]\n",
    "\n",
    "    model = OLS(endog=Y, exog=X).fit()\n",
    "    a, b = model.params\n",
    "\n",
    "    return a, b, df_probas"
   ]
  },
  {
   "cell_type": "code",
   "execution_count": 15,
   "metadata": {},
   "outputs": [
    {
     "data": {
      "image/png": "[encoded data removed]",
      "text/plain": [
       "<Figure size 640x480 with 1 Axes>"
      ]
     },
     "metadata": {},
     "output_type": "display_data"
    }
   ],
   "source": [
    "# fit OLS\n",
    "a, b, df_probas = regress_proba_slippage_on_quote_abs(df_trades=df_trades)\n",
    "\n",
    "X = df_probas[\"quote_bin\"]\n",
    "Y = a + b*X\n",
    "\n",
    "df_probas.plot.scatter(x=\"quote_bin\", y=\"slippage_proba\")\n",
    "plt.plot(X, Y, color=\"red\")\n",
    "\n",
    "plt.title(f\"Proba slope {b:.4f}. Intercept: {a:.4f}\")\n",
    "plt.ylim(0, 1)\n",
    "\n",
    "plt.show()"
   ]
  },
  {
   "cell_type": "code",
   "execution_count": 16,
   "metadata": {},
   "outputs": [
    {
     "data": {
      "text/plain": [
       "{'has_slippage_slope_1d': 6.302239889245846,\n",
       " 'has_slippage_intercept_1d': 0.0331051925585417,\n",
       " 'has_slippage_slope_3d': 9.433536964692872,\n",
       " 'has_slippage_intercept_3d': 0.040406173036374914,\n",
       " 'has_slippage_slope_7d': 6.586905628212643,\n",
       " 'has_slippage_intercept_7d': 0.10241656107813758,\n",
       " 'has_slippage_slope_14d': 3.2325757689868393,\n",
       " 'has_slippage_intercept_14d': 0.19662171036356613,\n",
       " 'has_slippage_slope_30d': 1.6919666866153844,\n",
       " 'has_slippage_intercept_30d': 0.2757759198249284}"
      ]
     },
     "execution_count": 16,
     "metadata": {},
     "output_type": "execute_result"
    }
   ],
   "source": [
    "offsets: List[int] = [1, 3, 7, 14, 30]\n",
    "\n",
    "liquidity_proba_features: Dict[str, float] = {}\n",
    "\n",
    "for offset in offsets:\n",
    "    df_window: pd.DataFrame = df_trades[df_trades[\"time\"] >= time_ub - timedelta(days=offset)].copy()\n",
    "    a, b, _ = regress_proba_slippage_on_quote_abs(df_trades=df_window)\n",
    "\n",
    "    liquidity_proba_features[f\"has_slippage_slope_{offset}d\"] = b\n",
    "    liquidity_proba_features[f\"has_slippage_intercept_{offset}d\"] = a\n",
    "\n",
    "liquidity_proba_features"
   ]
  },
  {
   "cell_type": "markdown",
   "metadata": {},
   "source": [
    "<h4>Log returns features</h4>"
   ]
  },
  {
   "cell_type": "code",
   "execution_count": 17,
   "metadata": {},
   "outputs": [],
   "source": [
    "df_hourly_candles: pd.DataFrame = (\n",
    "    df_trades\n",
    "    .resample(on=\"time\", rule=\"1h\", closed=\"left\")\n",
    "    .agg(\n",
    "        open=(\"price_first\", \"first\"),\n",
    "        close=(\"price_last\", \"last\"),\n",
    "        low=(\"price_min\", \"min\"),\n",
    "        high=(\"price_max\", \"max\"),\n",
    "        volume_qty_abs=(\"qty_abs\", \"sum\"), # absolute volume in base asset\n",
    "        volume_quote_abs=(\"quote_abs\", \"sum\"), # absolute volume in quote asset\n",
    "        volume_quote_abs_long=(\"quote_long\", \"sum\"),\n",
    "        num_trades=(\"is_long\", \"count\"), \n",
    "        num_trades_long=(\"is_long\", \"sum\"), \n",
    "        quote_slippage_abs=(\"quote_slippage_abs\", \"sum\"), # slippage loss incurred by both buy and sell sides\n",
    "        quote_slippage_abs_long=(\"quote_slippage_long\", \"sum\") # quote slippage incurred by longs\n",
    "    )\n",
    ").reset_index()\n",
    "\n",
    "df_hourly_candles[\"log_return\"] = np.log(\n",
    "    df_hourly_candles[\"close\"] / df_hourly_candles[\"close\"].shift(1)\n",
    ")"
   ]
  },
  {
   "cell_type": "code",
   "execution_count": 24,
   "metadata": {},
   "outputs": [],
   "source": [
    "# long run mean and std of volumes in base and quote\n",
    "df_hourly_lr: pd.DataFrame = df_hourly_candles[\n",
    "    df_hourly_candles[\"volume_quote_abs\"] <= df_hourly_candles[\"volume_quote_abs\"].quantile(.99)\n",
    "].copy()"
   ]
  },
  {
   "cell_type": "code",
   "execution_count": 25,
   "metadata": {},
   "outputs": [],
   "source": [
    "hour_offsets: List[int] = [1, 6, 24, 48, 72, 7*24, 14*24]\n",
    "\n",
    "hourly_features: Dict[str, float] = {}\n",
    "\n",
    "for offset in hour_offsets:\n",
    "    df_window: pd.DataFrame = df_hourly_candles[df_hourly_candles[\"time\"] >= time_ub - timedelta(hours=offset)].copy()\n",
    "    \n",
    "    hourly_features[f\"overall_return_{offset}h\"] = (df_window[\"log_return\"] + 1).prod() # overall return if held for the whole window up to the last hour\n",
    "\n",
    "    # Scaled volumes in base and quote assets\n",
    "    hourly_features[f\"volume_quote_abs_zscore_{offset}h_30d\"] = (\n",
    "        (df_window[\"volume_quote_abs\"].mean() - df_hourly_lr[\"volume_quote_abs\"].mean()) / df_hourly_lr[\"volume_quote_abs\"].std()\n",
    "    )\n",
    "\n",
    "    # hourly_features[f\"num_trades_long_share_{offset}h\"] = df_window[\"num_trades_long\"].sum() / df_window[\"num_trades\"].sum()\n",
    "    hourly_features[f\"volume_quote_long_share_{offset}h\"] = df_window[\"volume_quote_abs_long\"].sum() / df_window[\"volume_quote_abs\"].sum()\n",
    "\n",
    "    if offset == 1:\n",
    "        continue\n",
    "    # Hourly log returns volatility scaled by long run volatility\n",
    "    hourly_features[f\"log_return_std_{offset}h_30d\"] = np.log(df_window[\"log_return\"].std() / df_hourly_lr[\"log_return\"].std())\n",
    "    # hourly log returns mean scaled by long run std -> z-score\n",
    "    hourly_features[f\"log_return_zscore_{offset}h_30d\"] = df_window[\"log_return\"].mean() / df_hourly_lr[\"log_return\"].std() "
   ]
  },
  {
   "cell_type": "markdown",
   "metadata": {},
   "source": [
    "<h4>Slippage features</h4>"
   ]
  },
  {
   "cell_type": "code",
   "execution_count": 26,
   "metadata": {},
   "outputs": [
    {
     "data": {
      "text/plain": [
       "5"
      ]
     },
     "execution_count": 26,
     "metadata": {},
     "output_type": "execute_result"
    }
   ],
   "source": [
    "slippage_features: Dict[str, float] = {}\n",
    "\n",
    "df_hourly_candles_120h: pd.DataFrame = df_hourly_candles[\n",
    "    df_hourly_candles[\"time\"] >= time_ub - timedelta(hours=120)\n",
    "].copy()\n",
    "\n",
    "hour_offsets: List[int] = [1, 6, 24, 48, 72]\n",
    "\n",
    "for offset in hour_offsets:\n",
    "    df_window: pd.DataFrame = df_hourly_candles[df_hourly_candles[\"time\"] >= time_ub - timedelta(hours=offset)].copy()\n",
    "    # Share of overall slippages of this time window in 120hours\n",
    "    slippage_features[f\"quote_slippage_abs_share_{offset}h_120h\"] = (\n",
    "        df_window[\"quote_slippage_abs\"].sum() / df_hourly_candles_120h[\"quote_slippage_abs\"].sum()\n",
    "    )\n",
    "\n",
    "len(slippage_features)"
   ]
  },
  {
   "cell_type": "markdown",
   "metadata": {},
   "source": [
    "<h4>Imbalance features</h4>"
   ]
  },
  {
   "cell_type": "code",
   "execution_count": 27,
   "metadata": {},
   "outputs": [
    {
     "data": {
      "text/plain": [
       "10"
      ]
     },
     "execution_count": 27,
     "metadata": {},
     "output_type": "execute_result"
    }
   ],
   "source": [
    "imbalance_features: Dict[str, float] = {}\n",
    "\n",
    "for offset in hour_offsets:\n",
    "    df_window: pd.DataFrame = df_trades[df_trades[\"time\"] >= time_ub - timedelta(hours=offset)].copy()\n",
    "    # Volume imbalance ratio to see if there is more buying pressure\n",
    "    imbalance_features[f\"quote_imbalance_ratio_{offset}h\"] = df_window[\"quote_sign\"].sum() / df_window[\"quote_abs\"].sum()\n",
    "    # Imbalance ratio in slippages to see if there is skew towards long slippages\n",
    "    imbalance_features[f\"quote_slippage_imbalance_ratio_{offset}h\"] = df_window[\"quote_slippage_sign\"].sum() / df_window[\"quote_slippage_abs\"].sum()\n",
    "\n",
    "len(imbalance_features)"
   ]
  },
  {
   "cell_type": "markdown",
   "metadata": {},
   "source": [
    "<h4>EVT features</h4>"
   ]
  },
  {
   "cell_type": "code",
   "execution_count": 45,
   "metadata": {},
   "outputs": [
    {
     "data": {
      "text/plain": [
       "{'quote_abs_powerlaw_alpha_1h': 1.4231224673455731,\n",
       " 'quote_abs_powerlaw_alpha_6h': 1.4036145282889363,\n",
       " 'quote_abs_powerlaw_alpha_24h': 1.1356229275469014,\n",
       " 'quote_abs_powerlaw_alpha_48h': 1.1191055436580655,\n",
       " 'quote_abs_powerlaw_alpha_72h': 1.119763813744268}"
      ]
     },
     "execution_count": 45,
     "metadata": {},
     "output_type": "execute_result"
    }
   ],
   "source": [
    "def estimate_alpha_mle(data: pd.Series) -> float:\n",
    "    \"\"\"Hills estimator of powerlaw alpha\"\"\"\n",
    "    n = len(data)\n",
    "    xmin = min(data)\n",
    "    alpha = 1 + n / np.sum(np.log(data / xmin))\n",
    "\n",
    "    return alpha\n",
    "\n",
    "evt_features: Dict[str, float] = {}\n",
    "\n",
    "for offset in hour_offsets:\n",
    "    df_window: pd.DataFrame = df_trades[df_trades[\"time\"] >= time_ub - timedelta(hours=offset)].copy()\n",
    "\n",
    "\n",
    "    evt_features[f\"quote_abs_powerlaw_alpha_{offset}h\"] = estimate_alpha_mle(\n",
    "        data=df_window[\"quote_abs\"]\n",
    "    )\n",
    "\n",
    "evt_features"
   ]
  }
 ],
 "metadata": {
  "kernelspec": {
   "display_name": "env",
   "language": "python",
   "name": "python3"
  },
  "language_info": {
   "codemirror_mode": {
    "name": "ipython",
    "version": 3
   },
   "file_extension": ".py",
   "mimetype": "text/x-python",
   "name": "python",
   "nbconvert_exporter": "python",
   "pygments_lexer": "ipython3",
   "version": "3.12.1"
  }
 },
 "nbformat": 4,
 "nbformat_minor": 2
}
