{
 "cells": [
  {
   "cell_type": "markdown",
   "metadata": {},
   "source": [
    "<h4>Features 11-04-2024</h4>"
   ]
  },
  {
   "cell_type": "code",
   "execution_count": 7,
   "metadata": {},
   "outputs": [],
   "source": [
    "from pathlib import Path\n",
    "from datetime import datetime, timedelta\n",
    "from dataclasses import dataclass\n",
    "from typing import *\n",
    "\n",
    "\n",
    "import polars as pl\n",
    "import pandas as pd\n",
    "import os\n",
    "import numpy as np\n",
    "import matplotlib.pyplot as plt\n",
    "\n",
    "\n",
    "ROOT_DIR = Path(os.getcwd()).parent"
   ]
  },
  {
   "cell_type": "code",
   "execution_count": 8,
   "metadata": {},
   "outputs": [],
   "source": [
    "@dataclass\n",
    "class PumpEvent:\n",
    "    pump_id: int\n",
    "    ticker: str\n",
    "    time: str\n",
    "    exchange: str\n",
    "\n",
    "    def __post_init__(self):\n",
    "        self.time: pd.Timestamp = pd.Timestamp(self.time)\n",
    "\n",
    "    def __str__(self):\n",
    "        return f\"Pump event: {self.ticker} - {str(self.time)} on {self.exchange}\""
   ]
  },
  {
   "cell_type": "markdown",
   "metadata": {},
   "source": [
    "<h4>Load data</h4>"
   ]
  },
  {
   "cell_type": "code",
   "execution_count": 9,
   "metadata": {},
   "outputs": [],
   "source": [
    "# data is organized by days\n",
    "pump = PumpEvent(\n",
    "    pump_id=1, ticker=\"NXSBTC\", time=\"2019-10-02 18:00:06\", exchange=\"binance\"\n",
    ")\n",
    "\n",
    "def load_data(pump_event: PumpEvent, lookback_delta: timedelta) -> pd.DataFrame:\n",
    "\n",
    "    start: pd.Timestamp = pump_event.time.round(\"1h\") - lookback_delta - timedelta(hours=1)\n",
    "    end: pd.Timestamp = pump_event.time.round(\"1h\") - timedelta(hours=1)\n",
    "\n",
    "    date_range: List[pd.Timestamp] = pd.date_range(\n",
    "        start=start,\n",
    "        end=end,\n",
    "        freq=\"D\",\n",
    "    ).tolist()\n",
    "\n",
    "    df: pd.DataFrame = pd.DataFrame()\n",
    "\n",
    "    for date in date_range:\n",
    "        file_name: str = f\"{pump_event.ticker}-trades-{date.date()}.parquet\"\n",
    "        df_date: pd.DataFrame = pd.read_parquet(\n",
    "            os.path.join(\n",
    "                ROOT_DIR, f\"data/trades_parquet/{pump_event.exchange}/{pump_event.ticker}\", file_name\n",
    "            )\n",
    "        )\n",
    "        df = pd.concat([df, df_date])\n",
    "\n",
    "    df[\"time\"] = pd.to_datetime(df[\"time\"], unit=\"ms\")\n",
    "\n",
    "    df = df[\n",
    "        (df[\"time\"] >= start) & (df[\"time\"] <= end)\n",
    "    ].reset_index(drop=True)\n",
    "\n",
    "    return df"
   ]
  },
  {
   "cell_type": "code",
   "execution_count": 10,
   "metadata": {},
   "outputs": [
    {
     "data": {
      "text/plain": [
       "-822"
      ]
     },
     "execution_count": 10,
     "metadata": {},
     "output_type": "execute_result"
    }
   ],
   "source": [
    "(pump.time - pd.Timestamp(\"2022-01-01\")).days"
   ]
  },
  {
   "cell_type": "code",
   "execution_count": 11,
   "metadata": {},
   "outputs": [
    {
     "data": {
      "text/html": [
       "<div>\n",
       "<style scoped>\n",
       "    .dataframe tbody tr th:only-of-type {\n",
       "        vertical-align: middle;\n",
       "    }\n",
       "\n",
       "    .dataframe tbody tr th {\n",
       "        vertical-align: top;\n",
       "    }\n",
       "\n",
       "    .dataframe thead th {\n",
       "        text-align: right;\n",
       "    }\n",
       "</style>\n",
       "<table border=\"1\" class=\"dataframe\">\n",
       "  <thead>\n",
       "    <tr style=\"text-align: right;\">\n",
       "      <th></th>\n",
       "      <th>price</th>\n",
       "      <th>qty</th>\n",
       "      <th>time</th>\n",
       "      <th>isBuyerMaker</th>\n",
       "      <th>quote</th>\n",
       "    </tr>\n",
       "  </thead>\n",
       "  <tbody>\n",
       "    <tr>\n",
       "      <th>0</th>\n",
       "      <td>0.000026</td>\n",
       "      <td>0.30</td>\n",
       "      <td>2019-08-03 17:04:10.179</td>\n",
       "      <td>True</td>\n",
       "      <td>0.000008</td>\n",
       "    </tr>\n",
       "    <tr>\n",
       "      <th>1</th>\n",
       "      <td>0.000026</td>\n",
       "      <td>500.00</td>\n",
       "      <td>2019-08-03 17:04:10.179</td>\n",
       "      <td>True</td>\n",
       "      <td>0.012800</td>\n",
       "    </tr>\n",
       "    <tr>\n",
       "      <th>2</th>\n",
       "      <td>0.000026</td>\n",
       "      <td>4.27</td>\n",
       "      <td>2019-08-03 17:04:10.179</td>\n",
       "      <td>True</td>\n",
       "      <td>0.000109</td>\n",
       "    </tr>\n",
       "    <tr>\n",
       "      <th>3</th>\n",
       "      <td>0.000026</td>\n",
       "      <td>22.28</td>\n",
       "      <td>2019-08-03 17:04:10.179</td>\n",
       "      <td>True</td>\n",
       "      <td>0.000570</td>\n",
       "    </tr>\n",
       "    <tr>\n",
       "      <th>4</th>\n",
       "      <td>0.000026</td>\n",
       "      <td>31.13</td>\n",
       "      <td>2019-08-03 17:04:32.735</td>\n",
       "      <td>True</td>\n",
       "      <td>0.000797</td>\n",
       "    </tr>\n",
       "  </tbody>\n",
       "</table>\n",
       "</div>"
      ],
      "text/plain": [
       "      price     qty                    time  isBuyerMaker     quote\n",
       "0  0.000026    0.30 2019-08-03 17:04:10.179          True  0.000008\n",
       "1  0.000026  500.00 2019-08-03 17:04:10.179          True  0.012800\n",
       "2  0.000026    4.27 2019-08-03 17:04:10.179          True  0.000109\n",
       "3  0.000026   22.28 2019-08-03 17:04:10.179          True  0.000570\n",
       "4  0.000026   31.13 2019-08-03 17:04:32.735          True  0.000797"
      ]
     },
     "execution_count": 11,
     "metadata": {},
     "output_type": "execute_result"
    }
   ],
   "source": [
    "df: pd.DataFrame = load_data(pump_event=pump, lookback_delta=timedelta(days=60))\n",
    "df[\"quote\"] = df[\"price\"] * df[\"qty\"]\n",
    "df.head()"
   ]
  },
  {
   "cell_type": "markdown",
   "metadata": {},
   "source": [
    "<h4>Create features</h4>\n",
    "\n",
    "<p>Create trades from ticks by aggregation by time </p>"
   ]
  },
  {
   "cell_type": "code",
   "execution_count": 12,
   "metadata": {},
   "outputs": [
    {
     "data": {
      "text/html": [
       "<div>\n",
       "<style scoped>\n",
       "    .dataframe tbody tr th:only-of-type {\n",
       "        vertical-align: middle;\n",
       "    }\n",
       "\n",
       "    .dataframe tbody tr th {\n",
       "        vertical-align: top;\n",
       "    }\n",
       "\n",
       "    .dataframe thead th {\n",
       "        text-align: right;\n",
       "    }\n",
       "</style>\n",
       "<table border=\"1\" class=\"dataframe\">\n",
       "  <thead>\n",
       "    <tr style=\"text-align: right;\">\n",
       "      <th></th>\n",
       "      <th>time</th>\n",
       "      <th>price_first</th>\n",
       "      <th>price_last</th>\n",
       "      <th>price_max</th>\n",
       "      <th>price_min</th>\n",
       "      <th>qty_sign</th>\n",
       "      <th>qty_abs</th>\n",
       "      <th>quote_sign</th>\n",
       "      <th>quote_abs</th>\n",
       "    </tr>\n",
       "  </thead>\n",
       "  <tbody>\n",
       "    <tr>\n",
       "      <th>0</th>\n",
       "      <td>2019-08-03 17:04:10.179</td>\n",
       "      <td>0.000026</td>\n",
       "      <td>0.000026</td>\n",
       "      <td>0.000026</td>\n",
       "      <td>0.000026</td>\n",
       "      <td>-526.85</td>\n",
       "      <td>526.85</td>\n",
       "      <td>-0.013487</td>\n",
       "      <td>0.013487</td>\n",
       "    </tr>\n",
       "    <tr>\n",
       "      <th>1</th>\n",
       "      <td>2019-08-03 17:04:32.735</td>\n",
       "      <td>0.000026</td>\n",
       "      <td>0.000026</td>\n",
       "      <td>0.000026</td>\n",
       "      <td>0.000026</td>\n",
       "      <td>-31.13</td>\n",
       "      <td>31.13</td>\n",
       "      <td>-0.000797</td>\n",
       "      <td>0.000797</td>\n",
       "    </tr>\n",
       "  </tbody>\n",
       "</table>\n",
       "</div>"
      ],
      "text/plain": [
       "                     time  price_first  price_last  price_max  price_min  \\\n",
       "0 2019-08-03 17:04:10.179     0.000026    0.000026   0.000026   0.000026   \n",
       "1 2019-08-03 17:04:32.735     0.000026    0.000026   0.000026   0.000026   \n",
       "\n",
       "   qty_sign  qty_abs  quote_sign  quote_abs  \n",
       "0   -526.85   526.85   -0.013487   0.013487  \n",
       "1    -31.13    31.13   -0.000797   0.000797  "
      ]
     },
     "execution_count": 12,
     "metadata": {},
     "output_type": "execute_result"
    }
   ],
   "source": [
    "df[\"qty_sign\"] = (1 - 2 * df[\"isBuyerMaker\"]) * df[\"qty\"]\n",
    "df[\"quote_sign\"] = (1 - 2 * df[\"isBuyerMaker\"]) * df[\"quote\"]\n",
    "\n",
    "df_trades: pd.DataFrame = df.groupby(\"time\").agg(\n",
    "    price_first=(\"price\", \"first\"),\n",
    "    price_last=(\"price\", \"last\"),\n",
    "    price_max=(\"price\", \"max\"),\n",
    "    price_min=(\"price\", \"min\"),\n",
    "    qty_sign=(\"qty_sign\", \"sum\"),\n",
    "    qty_abs=(\"qty\", \"sum\"),\n",
    "    quote_sign=(\"quote_sign\", \"sum\"),\n",
    "    quote_abs=(\"quote\", \"sum\")\n",
    "\n",
    ")\n",
    "\n",
    "df_trades = df_trades.reset_index()\n",
    "df_trades.head(2)"
   ]
  },
  {
   "cell_type": "markdown",
   "metadata": {},
   "source": [
    "<h4>Calculate Imbalance ratios</h4>"
   ]
  },
  {
   "cell_type": "code",
   "execution_count": 13,
   "metadata": {},
   "outputs": [],
   "source": [
    "window_sizes: List[timedelta] = [\n",
    "    timedelta(days=days) for days in [1, 7, 14, 30]\n",
    "]\n",
    "window_names: List[str] = [\"1d\", \"7d\", \"14d\", \"30d\"]\n",
    "\n",
    "imbalance_features = {}\n",
    "\n",
    "for window_size, window_name in zip(window_sizes, window_names):\n",
    "    df_trades_window: pd.DataFrame = df_trades[\n",
    "        df_trades[\"time\"] >= pump.time.round(\"1h\") - timedelta(hours=1) - window_size\n",
    "    ]\n",
    "    imbalance_ratio: float = df_trades_window[\"qty_sign\"].sum() / df_trades_window[\"qty_abs\"].sum()\n",
    "    imbalance_features[f\"imbalance_ratio_{window_name}\"] = imbalance_ratio"
   ]
  },
  {
   "cell_type": "code",
   "execution_count": 14,
   "metadata": {},
   "outputs": [
    {
     "data": {
      "text/plain": [
       "{'imbalance_ratio_1d': -0.010126946693593111,\n",
       " 'imbalance_ratio_7d': -0.000642763609068722,\n",
       " 'imbalance_ratio_14d': -0.09333978800139883,\n",
       " 'imbalance_ratio_30d': -0.08067029554323966}"
      ]
     },
     "execution_count": 14,
     "metadata": {},
     "output_type": "execute_result"
    }
   ],
   "source": [
    "imbalance_features"
   ]
  },
  {
   "cell_type": "markdown",
   "metadata": {},
   "source": [
    "<h4>Hourly Log returns features</h4>"
   ]
  },
  {
   "cell_type": "code",
   "execution_count": 15,
   "metadata": {},
   "outputs": [
    {
     "data": {
      "text/html": [
       "<div>\n",
       "<style scoped>\n",
       "    .dataframe tbody tr th:only-of-type {\n",
       "        vertical-align: middle;\n",
       "    }\n",
       "\n",
       "    .dataframe tbody tr th {\n",
       "        vertical-align: top;\n",
       "    }\n",
       "\n",
       "    .dataframe thead th {\n",
       "        text-align: right;\n",
       "    }\n",
       "</style>\n",
       "<table border=\"1\" class=\"dataframe\">\n",
       "  <thead>\n",
       "    <tr style=\"text-align: right;\">\n",
       "      <th></th>\n",
       "      <th>qty_abs</th>\n",
       "      <th>price_first</th>\n",
       "      <th>price_last</th>\n",
       "      <th>num_trades</th>\n",
       "    </tr>\n",
       "    <tr>\n",
       "      <th>time</th>\n",
       "      <th></th>\n",
       "      <th></th>\n",
       "      <th></th>\n",
       "      <th></th>\n",
       "    </tr>\n",
       "  </thead>\n",
       "  <tbody>\n",
       "    <tr>\n",
       "      <th>2019-08-03 18:00:00</th>\n",
       "      <td>11830.90</td>\n",
       "      <td>0.000026</td>\n",
       "      <td>0.000025</td>\n",
       "      <td>26</td>\n",
       "    </tr>\n",
       "    <tr>\n",
       "      <th>2019-08-03 19:00:00</th>\n",
       "      <td>137946.18</td>\n",
       "      <td>0.000025</td>\n",
       "      <td>0.000027</td>\n",
       "      <td>242</td>\n",
       "    </tr>\n",
       "  </tbody>\n",
       "</table>\n",
       "</div>"
      ],
      "text/plain": [
       "                       qty_abs  price_first  price_last  num_trades\n",
       "time                                                               \n",
       "2019-08-03 18:00:00   11830.90     0.000026    0.000025          26\n",
       "2019-08-03 19:00:00  137946.18     0.000025    0.000027         242"
      ]
     },
     "execution_count": 15,
     "metadata": {},
     "output_type": "execute_result"
    }
   ],
   "source": [
    "df_trades_1h: pd.DataFrame = (\n",
    "    df_trades\n",
    "    .resample(\n",
    "        rule=\"1h\", on=\"time\", label=\"right\", closed=\"right\"\n",
    "    )\n",
    "    .agg(\n",
    "        qty_abs=(\"qty_abs\", \"sum\"),\n",
    "        price_first=(\"price_first\", \"first\"),\n",
    "        price_last=(\"price_last\", \"last\"),\n",
    "        num_trades=(\"qty_sign\", \"count\"),\n",
    "    )\n",
    ")\n",
    "\n",
    "df_trades_1h.head(2)"
   ]
  },
  {
   "cell_type": "code",
   "execution_count": 16,
   "metadata": {},
   "outputs": [
    {
     "data": {
      "text/html": [
       "<div>\n",
       "<style scoped>\n",
       "    .dataframe tbody tr th:only-of-type {\n",
       "        vertical-align: middle;\n",
       "    }\n",
       "\n",
       "    .dataframe tbody tr th {\n",
       "        vertical-align: top;\n",
       "    }\n",
       "\n",
       "    .dataframe thead th {\n",
       "        text-align: right;\n",
       "    }\n",
       "</style>\n",
       "<table border=\"1\" class=\"dataframe\">\n",
       "  <thead>\n",
       "    <tr style=\"text-align: right;\">\n",
       "      <th></th>\n",
       "      <th>time</th>\n",
       "      <th>qty_abs</th>\n",
       "      <th>price_first</th>\n",
       "      <th>price_last</th>\n",
       "      <th>num_trades</th>\n",
       "      <th>log_return_1h</th>\n",
       "    </tr>\n",
       "  </thead>\n",
       "  <tbody>\n",
       "    <tr>\n",
       "      <th>0</th>\n",
       "      <td>2019-08-03 19:00:00</td>\n",
       "      <td>137946.18</td>\n",
       "      <td>0.000025</td>\n",
       "      <td>0.000027</td>\n",
       "      <td>242</td>\n",
       "      <td>0.053653</td>\n",
       "    </tr>\n",
       "    <tr>\n",
       "      <th>1</th>\n",
       "      <td>2019-08-03 20:00:00</td>\n",
       "      <td>22686.68</td>\n",
       "      <td>0.000027</td>\n",
       "      <td>0.000027</td>\n",
       "      <td>65</td>\n",
       "      <td>0.003724</td>\n",
       "    </tr>\n",
       "  </tbody>\n",
       "</table>\n",
       "</div>"
      ],
      "text/plain": [
       "                 time    qty_abs  price_first  price_last  num_trades  \\\n",
       "0 2019-08-03 19:00:00  137946.18     0.000025    0.000027         242   \n",
       "1 2019-08-03 20:00:00   22686.68     0.000027    0.000027          65   \n",
       "\n",
       "   log_return_1h  \n",
       "0       0.053653  \n",
       "1       0.003724  "
      ]
     },
     "execution_count": 16,
     "metadata": {},
     "output_type": "execute_result"
    }
   ],
   "source": [
    "# calculate log returns\n",
    "df_trades_1h[\"price_last\"] = df_trades_1h[\"price_last\"].ffill()\n",
    "\n",
    "df_trades_1h[\"log_return_1h\"] = np.log(\n",
    "    df_trades_1h[\"price_last\"] / df_trades_1h[\"price_last\"].shift(1)\n",
    ")\n",
    "\n",
    "df_trades_1h = df_trades_1h[df_trades_1h[\"log_return_1h\"].notna()]\n",
    "df_trades_1h = df_trades_1h.reset_index()\n",
    "df_trades_1h.head(2)"
   ]
  },
  {
   "cell_type": "markdown",
   "metadata": {},
   "source": [
    "<p>Calculate means, sds of Log returns using different window sizes prior to the pump</p>"
   ]
  },
  {
   "cell_type": "code",
   "execution_count": 17,
   "metadata": {},
   "outputs": [
    {
     "data": {
      "text/plain": [
       "{'log_return_1h_mean_1d': 0.002390985720589208,\n",
       " 'log_return_1h_std_1d': 0.007453618516977809,\n",
       " 'log_return_1h_mean_7d': 0.0009148972913921206,\n",
       " 'log_return_1h_std_7d': 0.008615054913220678,\n",
       " 'log_return_1h_mean_14d': 0.00047130606987897745,\n",
       " 'log_return_1h_std_14d': 0.009844051093317421,\n",
       " 'log_return_1h_mean_30d': 0.00012720556017540194,\n",
       " 'log_return_1h_std_30d': 0.009435235729309311}"
      ]
     },
     "execution_count": 17,
     "metadata": {},
     "output_type": "execute_result"
    }
   ],
   "source": [
    "log_returns_features = {}\n",
    "\n",
    "for window_size, window_name in zip(window_sizes, window_names):\n",
    "    df_window: pd.DataFrame = df_trades_1h[\n",
    "        df_trades_1h[\"time\"] >= pump.time.round(\"1h\") - timedelta(hours=1) - window_size\n",
    "    ]\n",
    "    # Add features\n",
    "    log_returns_features[f\"log_return_1h_mean_{window_name}\"] = df_window[\"log_return_1h\"].mean()\n",
    "    log_returns_features[f\"log_return_1h_std_{window_name}\"] = df_window[\"log_return_1h\"].std()\n",
    "\n",
    "log_returns_features"
   ]
  },
  {
   "cell_type": "markdown",
   "metadata": {},
   "source": [
    "<h4>Number of trades features</h4>"
   ]
  },
  {
   "cell_type": "code",
   "execution_count": 18,
   "metadata": {},
   "outputs": [
    {
     "data": {
      "text/plain": [
       "{'num_returns_mean_1d': 35.2,\n",
       " 'num_trades_std_1d': 62.42662359389088,\n",
       " 'num_returns_mean_7d': 24.224852071005916,\n",
       " 'num_trades_std_7d': 36.36582118042705,\n",
       " 'num_returns_mean_14d': 24.96439169139466,\n",
       " 'num_trades_std_14d': 35.163545309750596,\n",
       " 'num_returns_mean_30d': 22.74479889042996,\n",
       " 'num_trades_std_30d': 32.96818843378162}"
      ]
     },
     "execution_count": 18,
     "metadata": {},
     "output_type": "execute_result"
    }
   ],
   "source": [
    "num_trades_features = {}\n",
    "\n",
    "for window_size, window_name in zip(window_sizes, window_names):\n",
    "    df_window: pd.DataFrame = df_trades_1h[\n",
    "        df_trades_1h[\"time\"] >= pump.time.round(\"1h\") - timedelta(hours=1) - window_size\n",
    "    ]\n",
    "    # Add features\n",
    "    num_trades_features[f\"num_returns_mean_{window_name}\"] = df_window[\"num_trades\"].mean()\n",
    "    num_trades_features[f\"num_trades_std_{window_name}\"] = df_window[\"num_trades\"].std()\n",
    "\n",
    "num_trades_features"
   ]
  },
  {
   "cell_type": "markdown",
   "metadata": {},
   "source": [
    "<h4>Quote asset features</h4>"
   ]
  },
  {
   "cell_type": "code",
   "execution_count": 19,
   "metadata": {},
   "outputs": [
    {
     "data": {
      "text/plain": [
       "{'quote_mean_1d': 0.01774565036754891,\n",
       " 'quote_std_1d': 0.059383074769567015,\n",
       " 'quote_mean_7d': 0.01666711783518202,\n",
       " 'quote_std_7d': 0.05586982872384882,\n",
       " 'quote_mean_14d': 0.0184559460769957,\n",
       " 'quote_std_14d': 0.07372494467037488,\n",
       " 'quote_mean_30d': 0.017850210055144408,\n",
       " 'quote_std_30d': 0.06940183127477087}"
      ]
     },
     "execution_count": 19,
     "metadata": {},
     "output_type": "execute_result"
    }
   ],
   "source": [
    "quote_features = {}\n",
    "\n",
    "window_sizes = [\n",
    "    timedelta(days=day) for day in [1, 7, 14, 30]\n",
    "]\n",
    "window_names = [\"1d\", \"7d\", \"14d\", \"30d\"]\n",
    "\n",
    "for window_size, window_name in zip(window_sizes, window_names):\n",
    "    df_window: pd.DataFrame = df_trades[\n",
    "        df_trades[\"time\"] >= pump.time.round(\"1h\") - timedelta(hours=1) - window_size\n",
    "    ]\n",
    "    # Add features\n",
    "    quote_features[f\"quote_mean_{window_name}\"] = df_window[\"quote_abs\"].mean()\n",
    "    quote_features[f\"quote_std_{window_name}\"] = df_window[\"quote_abs\"].std()\n",
    "\n",
    "# quote_features\n",
    "\n",
    "quote_features"
   ]
  },
  {
   "cell_type": "markdown",
   "metadata": {},
   "source": [
    "<h4>Exchange ticker volume</h4>"
   ]
  },
  {
   "cell_type": "code",
   "execution_count": 20,
   "metadata": {},
   "outputs": [
    {
     "data": {
      "text/plain": [
       "'NXSBTC'"
      ]
     },
     "execution_count": 20,
     "metadata": {},
     "output_type": "execute_result"
    }
   ],
   "source": [
    "pump.ticker"
   ]
  },
  {
   "cell_type": "code",
   "execution_count": 23,
   "metadata": {},
   "outputs": [],
   "source": [
    "df_cmc = pd.read_parquet(\n",
    "    os.path.join(ROOT_DIR, \"data/cmc/cmc_snapshots.parquet\")\n",
    ")\n",
    "\n",
    "df_cmc[\"snapshot\"] = pd.to_datetime(\n",
    "    df_cmc[\"snapshot\"], format=\"%Y%m%d\"\n",
    ")\n",
    "\n",
    "df_cmc_ticker: pd.DataFrame = df_cmc[\n",
    "    df_cmc[\"symbol\"] == \"NAS\"\n",
    "].copy()"
   ]
  },
  {
   "cell_type": "code",
   "execution_count": 25,
   "metadata": {},
   "outputs": [
    {
     "data": {
      "text/html": [
       "<div>\n",
       "<style scoped>\n",
       "    .dataframe tbody tr th:only-of-type {\n",
       "        vertical-align: middle;\n",
       "    }\n",
       "\n",
       "    .dataframe tbody tr th {\n",
       "        vertical-align: top;\n",
       "    }\n",
       "\n",
       "    .dataframe thead th {\n",
       "        text-align: right;\n",
       "    }\n",
       "</style>\n",
       "<table border=\"1\" class=\"dataframe\">\n",
       "  <thead>\n",
       "    <tr style=\"text-align: right;\">\n",
       "      <th></th>\n",
       "      <th>date</th>\n",
       "      <th>quote_abs</th>\n",
       "      <th>snapshot</th>\n",
       "      <th>trading_volume_btc</th>\n",
       "    </tr>\n",
       "  </thead>\n",
       "  <tbody>\n",
       "    <tr>\n",
       "      <th>0</th>\n",
       "      <td>2019-08-03</td>\n",
       "      <td>6.208810</td>\n",
       "      <td>2019-08-03</td>\n",
       "      <td>956.671008</td>\n",
       "    </tr>\n",
       "    <tr>\n",
       "      <th>1</th>\n",
       "      <td>2019-08-04</td>\n",
       "      <td>12.756030</td>\n",
       "      <td>2019-08-04</td>\n",
       "      <td>534.394802</td>\n",
       "    </tr>\n",
       "    <tr>\n",
       "      <th>2</th>\n",
       "      <td>2019-08-05</td>\n",
       "      <td>13.109295</td>\n",
       "      <td>2019-08-05</td>\n",
       "      <td>765.709136</td>\n",
       "    </tr>\n",
       "    <tr>\n",
       "      <th>3</th>\n",
       "      <td>2019-08-06</td>\n",
       "      <td>17.245884</td>\n",
       "      <td>2019-08-06</td>\n",
       "      <td>488.178229</td>\n",
       "    </tr>\n",
       "    <tr>\n",
       "      <th>4</th>\n",
       "      <td>2019-08-07</td>\n",
       "      <td>9.139646</td>\n",
       "      <td>2019-08-07</td>\n",
       "      <td>435.306469</td>\n",
       "    </tr>\n",
       "  </tbody>\n",
       "</table>\n",
       "</div>"
      ],
      "text/plain": [
       "        date  quote_abs   snapshot  trading_volume_btc\n",
       "0 2019-08-03   6.208810 2019-08-03          956.671008\n",
       "1 2019-08-04  12.756030 2019-08-04          534.394802\n",
       "2 2019-08-05  13.109295 2019-08-05          765.709136\n",
       "3 2019-08-06  17.245884 2019-08-06          488.178229\n",
       "4 2019-08-07   9.139646 2019-08-07          435.306469"
      ]
     },
     "execution_count": 25,
     "metadata": {},
     "output_type": "execute_result"
    }
   ],
   "source": [
    "df_trades[\"date\"] = df_trades[\"time\"].dt.floor(\"1d\")\n",
    "\n",
    "df_vol = df_trades.groupby(\"date\")[\"quote_abs\"].sum().to_frame().reset_index()\n",
    "df_vol = df_vol[\n",
    "    df_vol[\"date\"] < pump.time.floor(\"1d\")\n",
    "].copy()\n",
    "\n",
    "df_vol: pd.DataFrame = df_vol.merge(\n",
    "    df_cmc_ticker[[\"snapshot\", \"trading_volume_btc\"]], left_on=\"date\", right_on=\"snapshot\", how=\"left\"\n",
    ")\n",
    "\n",
    "df_vol.head()"
   ]
  },
  {
   "cell_type": "code",
   "execution_count": 34,
   "metadata": {},
   "outputs": [],
   "source": [
    "daily_exchange_vol_features = {}\n",
    "\n",
    "\n",
    "for window_size, window_name in zip(window_sizes, window_names):\n",
    "    df_window: pd.DataFrame = df_vol[\n",
    "        df_vol[\"date\"] >= pump.time.floor(\"1d\") - window_size\n",
    "    ].copy()\n",
    "\n",
    "    df_window[\"daily_exchange_vol_ratio\"] = df_window[\"quote_abs\"] / df_window[\"trading_volume_btc\"]\n",
    "    daily_exchange_vol_features[f\"daily_exchange_vol_ratio_{window_name}_mean\"] = (\n",
    "        df_window[\"daily_exchange_vol_ratio\"].mean() \n",
    "    )\n",
    "    daily_exchange_vol_features[f\"daily_exchange_vol_ratio_{window_name}_std\"] = (\n",
    "        df_window[\"daily_exchange_vol_ratio\"].std() \n",
    "    )"
   ]
  },
  {
   "cell_type": "code",
   "execution_count": 36,
   "metadata": {},
   "outputs": [
    {
     "data": {
      "text/plain": [
       "Timestamp('2019-10-02 18:00:06')"
      ]
     },
     "execution_count": 36,
     "metadata": {},
     "output_type": "execute_result"
    }
   ],
   "source": [
    "pump.time"
   ]
  },
  {
   "cell_type": "code",
   "execution_count": 37,
   "metadata": {},
   "outputs": [
    {
     "data": {
      "text/html": [
       "<div>\n",
       "<style scoped>\n",
       "    .dataframe tbody tr th:only-of-type {\n",
       "        vertical-align: middle;\n",
       "    }\n",
       "\n",
       "    .dataframe tbody tr th {\n",
       "        vertical-align: top;\n",
       "    }\n",
       "\n",
       "    .dataframe thead th {\n",
       "        text-align: right;\n",
       "    }\n",
       "</style>\n",
       "<table border=\"1\" class=\"dataframe\">\n",
       "  <thead>\n",
       "    <tr style=\"text-align: right;\">\n",
       "      <th></th>\n",
       "      <th>date</th>\n",
       "      <th>quote_abs</th>\n",
       "      <th>snapshot</th>\n",
       "      <th>trading_volume_btc</th>\n",
       "    </tr>\n",
       "  </thead>\n",
       "  <tbody>\n",
       "    <tr>\n",
       "      <th>55</th>\n",
       "      <td>2019-09-27</td>\n",
       "      <td>3.455373</td>\n",
       "      <td>2019-09-27</td>\n",
       "      <td>379.346921</td>\n",
       "    </tr>\n",
       "    <tr>\n",
       "      <th>56</th>\n",
       "      <td>2019-09-28</td>\n",
       "      <td>4.939172</td>\n",
       "      <td>2019-09-28</td>\n",
       "      <td>420.595658</td>\n",
       "    </tr>\n",
       "    <tr>\n",
       "      <th>57</th>\n",
       "      <td>2019-09-29</td>\n",
       "      <td>8.214490</td>\n",
       "      <td>2019-09-29</td>\n",
       "      <td>450.348867</td>\n",
       "    </tr>\n",
       "    <tr>\n",
       "      <th>58</th>\n",
       "      <td>2019-09-30</td>\n",
       "      <td>7.250531</td>\n",
       "      <td>2019-09-30</td>\n",
       "      <td>665.522217</td>\n",
       "    </tr>\n",
       "    <tr>\n",
       "      <th>59</th>\n",
       "      <td>2019-10-01</td>\n",
       "      <td>21.746591</td>\n",
       "      <td>2019-10-01</td>\n",
       "      <td>397.240576</td>\n",
       "    </tr>\n",
       "  </tbody>\n",
       "</table>\n",
       "</div>"
      ],
      "text/plain": [
       "         date  quote_abs   snapshot  trading_volume_btc\n",
       "55 2019-09-27   3.455373 2019-09-27          379.346921\n",
       "56 2019-09-28   4.939172 2019-09-28          420.595658\n",
       "57 2019-09-29   8.214490 2019-09-29          450.348867\n",
       "58 2019-09-30   7.250531 2019-09-30          665.522217\n",
       "59 2019-10-01  21.746591 2019-10-01          397.240576"
      ]
     },
     "execution_count": 37,
     "metadata": {},
     "output_type": "execute_result"
    }
   ],
   "source": [
    "df_vol.tail()"
   ]
  }
 ],
 "metadata": {
  "kernelspec": {
   "display_name": "env",
   "language": "python",
   "name": "python3"
  },
  "language_info": {
   "codemirror_mode": {
    "name": "ipython",
    "version": 3
   },
   "file_extension": ".py",
   "mimetype": "text/x-python",
   "name": "python",
   "nbconvert_exporter": "python",
   "pygments_lexer": "ipython3",
   "version": "3.12.1"
  }
 },
 "nbformat": 4,
 "nbformat_minor": 2
}
