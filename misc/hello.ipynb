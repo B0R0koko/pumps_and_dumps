{
 "cells": [
  {
   "cell_type": "code",
   "execution_count": 1,
   "metadata": {},
   "outputs": [],
   "source": [
    "from pathlib import Path\n",
    "from datetime import datetime, timedelta\n",
    "from dataclasses import dataclass\n",
    "from typing import *\n",
    "\n",
    "\n",
    "import polars as pl\n",
    "import pandas as pd\n",
    "import os\n",
    "import numpy as np\n",
    "import matplotlib.pyplot as plt\n",
    "\n",
    "\n",
    "ROOT_DIR = Path(os.getcwd()).parent"
   ]
  },
  {
   "cell_type": "code",
   "execution_count": 2,
   "metadata": {},
   "outputs": [],
   "source": [
    "@dataclass\n",
    "class PumpEvent:\n",
    "    pump_id: int\n",
    "    ticker: str\n",
    "    time: str\n",
    "    exchange: str\n",
    "\n",
    "    def __post_init__(self):\n",
    "        self.time: pd.Timestamp = pd.Timestamp(self.time)\n",
    "\n",
    "    def __str__(self):\n",
    "        return f\"Pump event: {self.ticker} - {str(self.time)} on {self.exchange}\""
   ]
  },
  {
   "cell_type": "code",
   "execution_count": 3,
   "metadata": {},
   "outputs": [],
   "source": [
    "# data is organized by days\n",
    "pump = PumpEvent(\n",
    "    pump_id=1, ticker=\"STMXBTC\", time=\"2020-11-01 18:00:10\", exchange=\"binance\"\n",
    ")\n",
    "\n",
    "date_range: List[pd.Timestamp] = pd.date_range(\n",
    "    start=pump.time.round(\"1h\") - timedelta(days=14, hours=1), \n",
    "    end=pump.time.round(\"1h\") - timedelta(hours=1), freq=\"D\",\n",
    ").tolist()\n",
    "\n",
    "df: pd.DataFrame = pd.DataFrame()\n",
    "\n",
    "for date in date_range:\n",
    "\n",
    "    file_name: str = f\"{pump.ticker}-trades-{date.date()}.parquet\"\n",
    "    df_date: pd.DataFrame = pd.read_parquet(\n",
    "        os.path.join(ROOT_DIR, f\"data/trades_parquet/{pump.exchange}/{pump.ticker}\", file_name)\n",
    "    )\n",
    "\n",
    "    df = pd.concat([df, df_date])\n",
    "\n",
    "df = df[\n",
    "    (df[\"time\"] >= pump.time.round(\"1h\") - timedelta(days=14, hours=1)) &\n",
    "    (df[\"time\"] <= pump.time.round(\"1h\") - timedelta(hours=1))\n",
    "]"
   ]
  },
  {
   "cell_type": "code",
   "execution_count": 4,
   "metadata": {},
   "outputs": [],
   "source": [
    "df[\"qty_sign\"] = (1 - 2 * df[\"isBuyerMaker\"]) * df[\"qty\"]\n",
    "\n",
    "df_trades = df.groupby(\"time\").agg(\n",
    "    price_first=(\"price\", \"first\"),\n",
    "    price_last=(\"price\", \"last\"),\n",
    "    price_max=(\"price\", \"max\"),\n",
    "    price_min=(\"price\", \"min\"),\n",
    "    qty_sign=(\"qty_sign\", \"sum\"),\n",
    "    qty_abs=(\"qty\", \"sum\"),\n",
    ")"
   ]
  },
  {
   "cell_type": "code",
   "execution_count": 5,
   "metadata": {},
   "outputs": [],
   "source": [
    "df_trades[\"time\"] = df_trades.index\n",
    "df_trades = df_trades.reset_index(drop=True)"
   ]
  },
  {
   "cell_type": "code",
   "execution_count": 6,
   "metadata": {},
   "outputs": [],
   "source": [
    "df_trades_1h: pd.DataFrame = df_trades.resample(\n",
    "    rule=\"1h\", on=\"time\", label=\"right\", closed=\"right\"\n",
    ").agg(\n",
    "    qty_abs=(\"qty_abs\", \"sum\"),\n",
    "    price_first=(\"price_first\", \"first\"),\n",
    "    price_last=(\"price_last\", \"last\"),\n",
    "    num_trades=(\"qty_sign\", \"count\"),\n",
    ")"
   ]
  },
  {
   "cell_type": "code",
   "execution_count": 7,
   "metadata": {},
   "outputs": [],
   "source": [
    "df_trades_1h[\"price_last\"] = df_trades_1h[\"price_last\"].ffill()\n",
    "\n",
    "df_trades_1h[\"log_return_1h\"] = np.log(\n",
    "    df_trades_1h[\"price_last\"] / df_trades_1h[\"price_last\"].shift(1)\n",
    ")\n",
    "\n",
    "df_trades_1h = df_trades_1h.iloc[1:, :].copy()\n",
    "df_trades_1h[\"time\"] = df_trades_1h.index\n",
    "df_trades_1h = df_trades_1h.reset_index(drop=True)"
   ]
  },
  {
   "cell_type": "code",
   "execution_count": 8,
   "metadata": {},
   "outputs": [
    {
     "data": {
      "text/plain": [
       "-0.0007501923232265708"
      ]
     },
     "execution_count": 8,
     "metadata": {},
     "output_type": "execute_result"
    }
   ],
   "source": [
    "df_trades_1h[\"log_return_1h\"].mean()"
   ]
  },
  {
   "cell_type": "code",
   "execution_count": 9,
   "metadata": {},
   "outputs": [],
   "source": [
    "df_trades_15m: pd.DataFrame = df_trades.resample(\n",
    "    rule=\"15min\", on=\"time\", label=\"right\", closed=\"right\"\n",
    ").agg(\n",
    "    qty_abs=(\"qty_abs\", \"sum\"),\n",
    "    price_first=(\"price_first\", \"first\"),\n",
    "    price_last=(\"price_last\", \"last\"),\n",
    "    num_trades=(\"qty_sign\", \"count\"),\n",
    ")\n",
    "\n",
    "df_trades_15m[\"time\"] = df_trades_15m.index\n",
    "df_trades_15m = df_trades_15m.reset_index(drop=True)"
   ]
  },
  {
   "cell_type": "code",
   "execution_count": 10,
   "metadata": {},
   "outputs": [],
   "source": [
    "df_trades_15m[\"price_last\"] = df_trades_15m[\"price_last\"].ffill()\n",
    "\n",
    "df_trades_15m[\"log_return_15m\"] = np.log(\n",
    "    df_trades_15m[\"price_last\"] / df_trades_15m[\"price_last\"].shift(1)\n",
    ")\n",
    "\n",
    "df_trades_15m = df_trades_15m.iloc[4:, :]"
   ]
  },
  {
   "cell_type": "code",
   "execution_count": 11,
   "metadata": {},
   "outputs": [],
   "source": [
    "df_trades_15m_1h = df_trades_15m.resample(\n",
    "    on=\"time\", rule=\"1h\", label=\"right\", closed=\"right\"\n",
    ").agg(\n",
    "    log_return=(\"log_return_15m\", \"sum\")\n",
    ")\n",
    "\n",
    "df_trades_15m_1h[\"time\"] = df_trades_15m_1h.index\n",
    "df_trades_15m_1h = df_trades_15m_1h.reset_index(drop=True)"
   ]
  },
  {
   "cell_type": "code",
   "execution_count": 15,
   "metadata": {},
   "outputs": [],
   "source": [
    "df_merged = df_trades_15m_1h.merge(\n",
    "    df_trades_1h, on=\"time\", how=\"left\"\n",
    ")"
   ]
  },
  {
   "cell_type": "code",
   "execution_count": 24,
   "metadata": {},
   "outputs": [
    {
     "data": {
      "text/plain": [
       "-0.0007507525863506969"
      ]
     },
     "execution_count": 24,
     "metadata": {},
     "output_type": "execute_result"
    }
   ],
   "source": [
    "df_trades_15m[\"log_return_15m\"].mean() * 4"
   ]
  },
  {
   "cell_type": "code",
   "execution_count": 21,
   "metadata": {},
   "outputs": [
    {
     "data": {
      "text/html": [
       "<div>\n",
       "<style scoped>\n",
       "    .dataframe tbody tr th:only-of-type {\n",
       "        vertical-align: middle;\n",
       "    }\n",
       "\n",
       "    .dataframe tbody tr th {\n",
       "        vertical-align: top;\n",
       "    }\n",
       "\n",
       "    .dataframe thead th {\n",
       "        text-align: right;\n",
       "    }\n",
       "</style>\n",
       "<table border=\"1\" class=\"dataframe\">\n",
       "  <thead>\n",
       "    <tr style=\"text-align: right;\">\n",
       "      <th></th>\n",
       "      <th>log_return</th>\n",
       "      <th>time</th>\n",
       "      <th>qty_abs</th>\n",
       "      <th>price_first</th>\n",
       "      <th>price_last</th>\n",
       "      <th>num_trades</th>\n",
       "      <th>log_return_1h</th>\n",
       "    </tr>\n",
       "  </thead>\n",
       "  <tbody>\n",
       "    <tr>\n",
       "      <th>0</th>\n",
       "      <td>0.000000e+00</td>\n",
       "      <td>2020-10-18 19:00:00</td>\n",
       "      <td>0.0</td>\n",
       "      <td>NaN</td>\n",
       "      <td>1.800000e-07</td>\n",
       "      <td>0</td>\n",
       "      <td>0.000000</td>\n",
       "    </tr>\n",
       "    <tr>\n",
       "      <th>1</th>\n",
       "      <td>-1.387779e-17</td>\n",
       "      <td>2020-10-18 20:00:00</td>\n",
       "      <td>280146.0</td>\n",
       "      <td>1.800000e-07</td>\n",
       "      <td>1.800000e-07</td>\n",
       "      <td>7</td>\n",
       "      <td>0.000000</td>\n",
       "    </tr>\n",
       "    <tr>\n",
       "      <th>2</th>\n",
       "      <td>-5.715841e-02</td>\n",
       "      <td>2020-10-18 21:00:00</td>\n",
       "      <td>20000.0</td>\n",
       "      <td>1.700000e-07</td>\n",
       "      <td>1.700000e-07</td>\n",
       "      <td>1</td>\n",
       "      <td>-0.057158</td>\n",
       "    </tr>\n",
       "    <tr>\n",
       "      <th>3</th>\n",
       "      <td>0.000000e+00</td>\n",
       "      <td>2020-10-18 22:00:00</td>\n",
       "      <td>6767.0</td>\n",
       "      <td>1.800000e-07</td>\n",
       "      <td>1.700000e-07</td>\n",
       "      <td>4</td>\n",
       "      <td>0.000000</td>\n",
       "    </tr>\n",
       "    <tr>\n",
       "      <th>4</th>\n",
       "      <td>5.715841e-02</td>\n",
       "      <td>2020-10-18 23:00:00</td>\n",
       "      <td>7011.0</td>\n",
       "      <td>1.800000e-07</td>\n",
       "      <td>1.800000e-07</td>\n",
       "      <td>3</td>\n",
       "      <td>0.057158</td>\n",
       "    </tr>\n",
       "    <tr>\n",
       "      <th>...</th>\n",
       "      <td>...</td>\n",
       "      <td>...</td>\n",
       "      <td>...</td>\n",
       "      <td>...</td>\n",
       "      <td>...</td>\n",
       "      <td>...</td>\n",
       "      <td>...</td>\n",
       "    </tr>\n",
       "    <tr>\n",
       "      <th>330</th>\n",
       "      <td>0.000000e+00</td>\n",
       "      <td>2020-11-01 13:00:00</td>\n",
       "      <td>244608.0</td>\n",
       "      <td>1.400000e-07</td>\n",
       "      <td>1.400000e-07</td>\n",
       "      <td>6</td>\n",
       "      <td>0.000000</td>\n",
       "    </tr>\n",
       "    <tr>\n",
       "      <th>331</th>\n",
       "      <td>0.000000e+00</td>\n",
       "      <td>2020-11-01 14:00:00</td>\n",
       "      <td>99158.0</td>\n",
       "      <td>1.400000e-07</td>\n",
       "      <td>1.400000e-07</td>\n",
       "      <td>5</td>\n",
       "      <td>0.000000</td>\n",
       "    </tr>\n",
       "    <tr>\n",
       "      <th>332</th>\n",
       "      <td>8.326673e-17</td>\n",
       "      <td>2020-11-01 15:00:00</td>\n",
       "      <td>43441158.0</td>\n",
       "      <td>1.400000e-07</td>\n",
       "      <td>1.400000e-07</td>\n",
       "      <td>19</td>\n",
       "      <td>0.000000</td>\n",
       "    </tr>\n",
       "    <tr>\n",
       "      <th>333</th>\n",
       "      <td>0.000000e+00</td>\n",
       "      <td>2020-11-01 16:00:00</td>\n",
       "      <td>13828.0</td>\n",
       "      <td>1.400000e-07</td>\n",
       "      <td>1.400000e-07</td>\n",
       "      <td>4</td>\n",
       "      <td>0.000000</td>\n",
       "    </tr>\n",
       "    <tr>\n",
       "      <th>334</th>\n",
       "      <td>0.000000e+00</td>\n",
       "      <td>2020-11-01 17:00:00</td>\n",
       "      <td>3396826.0</td>\n",
       "      <td>1.400000e-07</td>\n",
       "      <td>1.400000e-07</td>\n",
       "      <td>4</td>\n",
       "      <td>0.000000</td>\n",
       "    </tr>\n",
       "  </tbody>\n",
       "</table>\n",
       "<p>335 rows × 7 columns</p>\n",
       "</div>"
      ],
      "text/plain": [
       "       log_return                time     qty_abs   price_first    price_last  \\\n",
       "0    0.000000e+00 2020-10-18 19:00:00         0.0           NaN  1.800000e-07   \n",
       "1   -1.387779e-17 2020-10-18 20:00:00    280146.0  1.800000e-07  1.800000e-07   \n",
       "2   -5.715841e-02 2020-10-18 21:00:00     20000.0  1.700000e-07  1.700000e-07   \n",
       "3    0.000000e+00 2020-10-18 22:00:00      6767.0  1.800000e-07  1.700000e-07   \n",
       "4    5.715841e-02 2020-10-18 23:00:00      7011.0  1.800000e-07  1.800000e-07   \n",
       "..            ...                 ...         ...           ...           ...   \n",
       "330  0.000000e+00 2020-11-01 13:00:00    244608.0  1.400000e-07  1.400000e-07   \n",
       "331  0.000000e+00 2020-11-01 14:00:00     99158.0  1.400000e-07  1.400000e-07   \n",
       "332  8.326673e-17 2020-11-01 15:00:00  43441158.0  1.400000e-07  1.400000e-07   \n",
       "333  0.000000e+00 2020-11-01 16:00:00     13828.0  1.400000e-07  1.400000e-07   \n",
       "334  0.000000e+00 2020-11-01 17:00:00   3396826.0  1.400000e-07  1.400000e-07   \n",
       "\n",
       "     num_trades  log_return_1h  \n",
       "0             0       0.000000  \n",
       "1             7       0.000000  \n",
       "2             1      -0.057158  \n",
       "3             4       0.000000  \n",
       "4             3       0.057158  \n",
       "..          ...            ...  \n",
       "330           6       0.000000  \n",
       "331           5       0.000000  \n",
       "332          19       0.000000  \n",
       "333           4       0.000000  \n",
       "334           4       0.000000  \n",
       "\n",
       "[335 rows x 7 columns]"
      ]
     },
     "execution_count": 21,
     "metadata": {},
     "output_type": "execute_result"
    }
   ],
   "source": [
    "df_merged[\n",
    "    (df_merged[\"log_return_1h\"] - df_merged[\"log_return\"]).abs() > 1e-10\n",
    "]"
   ]
  },
  {
   "cell_type": "code",
   "execution_count": 13,
   "metadata": {},
   "outputs": [
    {
     "data": {
      "text/plain": [
       "<Axes: xlabel='time'>"
      ]
     },
     "execution_count": 13,
     "metadata": {},
     "output_type": "execute_result"
    },
    {
     "data": {
      "image/png": "[encoded data removed]",
      "text/plain": [
       "<Figure size 640x480 with 1 Axes>"
      ]
     },
     "metadata": {},
     "output_type": "display_data"
    }
   ],
   "source": [
    "df_imbalance = df_trades.resample(on=\"time\", rule=\"1h\").agg(\n",
    "    net_position = (\"qty_sign\", \"sum\"),\n",
    "    abs_volume = (\"qty_abs\", \"sum\")\n",
    ")\n",
    "\n",
    "imbalance_ratio = (\n",
    "    df_imbalance[\"net_position\"].rolling(window=\"30d\", min_periods=24).sum()\n",
    " ) / df_imbalance[\"abs_volume\"].rolling(window=\"30d\", min_periods=24).sum()\n",
    "\n",
    "imbalance_ratio.plot()"
   ]
  },
  {
   "cell_type": "code",
   "execution_count": 14,
   "metadata": {},
   "outputs": [
    {
     "data": {
      "text/plain": [
       "-0.005836979818238573"
      ]
     },
     "execution_count": 14,
     "metadata": {},
     "output_type": "execute_result"
    }
   ],
   "source": [
    "imbalance_ratio.mean()"
   ]
  }
 ],
 "metadata": {
  "kernelspec": {
   "display_name": "env",
   "language": "python",
   "name": "python3"
  },
  "language_info": {
   "codemirror_mode": {
    "name": "ipython",
    "version": 3
   },
   "file_extension": ".py",
   "mimetype": "text/x-python",
   "name": "python",
   "nbconvert_exporter": "python",
   "pygments_lexer": "ipython3",
   "version": "3.12.1"
  }
 },
 "nbformat": 4,
 "nbformat_minor": 2
}
