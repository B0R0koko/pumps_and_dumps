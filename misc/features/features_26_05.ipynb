{
 "cells": [
  {
   "cell_type": "code",
   "execution_count": 3,
   "metadata": {},
   "outputs": [],
   "source": [
    "from pathlib import Path\n",
    "from datetime import datetime, timedelta\n",
    "from dataclasses import dataclass\n",
    "from typing import *\n",
    "from tqdm import tqdm\n",
    "\n",
    "\n",
    "import polars as pl\n",
    "import pandas as pd\n",
    "import os\n",
    "import numpy as np\n",
    "import seaborn as sns\n",
    "import matplotlib.pyplot as plt\n",
    "\n",
    "\n",
    "ROOT_DIR = Path(os.getcwd()).parent.parent"
   ]
  },
  {
   "cell_type": "code",
   "execution_count": 4,
   "metadata": {},
   "outputs": [],
   "source": [
    "@dataclass\n",
    "class PumpEvent:\n",
    "    pump_id: int\n",
    "    ticker: str\n",
    "    time: str\n",
    "    exchange: str\n",
    "\n",
    "    def __post_init__(self):\n",
    "        self.time: pd.Timestamp = pd.Timestamp(self.time)\n",
    "\n",
    "    def __str__(self):\n",
    "        return f\"Pump event: {self.ticker} - {str(self.time)} on {self.exchange}\""
   ]
  },
  {
   "cell_type": "code",
   "execution_count": 36,
   "metadata": {},
   "outputs": [],
   "source": [
    "# data is organized by days\n",
    "pump = PumpEvent(\n",
    "    pump_id=1, ticker=\"VIBBTC\", time=\"2021-09-05 17:00:05\", exchange=\"binance\"\n",
    ")\n",
    "\n",
    "def load_data(pump: PumpEvent, lookback_delta: timedelta) -> pd.DataFrame:\n",
    "\n",
    "    start: pd.Timestamp = pump.time.floor(\"1h\") - lookback_delta\n",
    "    end: pd.Timestamp = pump.time.floor(\"1h\")\n",
    "\n",
    "    date_range: List[pd.Timestamp] = pd.date_range(\n",
    "        start=start,\n",
    "        end=end, freq=\"D\",\n",
    "        inclusive=\"both\"\n",
    "    ).tolist()\n",
    "\n",
    "    df: pd.DataFrame = pd.DataFrame()\n",
    "\n",
    "    for date in tqdm(date_range):\n",
    "        file_name: str = f\"{pump.ticker}-trades-{date.date()}.parquet\"\n",
    "        df_date: pd.DataFrame = pd.read_parquet(\n",
    "            os.path.join(\n",
    "                ROOT_DIR, f\"data/trades_parquet/{pump.exchange}/{pump.ticker}\", file_name\n",
    "            )\n",
    "        )\n",
    "        \n",
    "        df = pd.concat([df, df_date])\n",
    "\n",
    "    df[\"time\"] = pd.to_datetime(df[\"time\"], unit=\"ms\")\n",
    "\n",
    "    # df = df[\n",
    "    #     (df[\"time\"] >= start) & (df[\"time\"] < end - timedelta(hours=1))\n",
    "    # ].reset_index(drop=True)\n",
    "\n",
    "    return df"
   ]
  },
  {
   "cell_type": "code",
   "execution_count": 37,
   "metadata": {},
   "outputs": [
    {
     "name": "stderr",
     "output_type": "stream",
     "text": [
      "100%|██████████| 31/31 [00:00<00:00, 95.87it/s]\n"
     ]
    },
    {
     "data": {
      "text/html": [
       "<div>\n",
       "<style scoped>\n",
       "    .dataframe tbody tr th:only-of-type {\n",
       "        vertical-align: middle;\n",
       "    }\n",
       "\n",
       "    .dataframe tbody tr th {\n",
       "        vertical-align: top;\n",
       "    }\n",
       "\n",
       "    .dataframe thead th {\n",
       "        text-align: right;\n",
       "    }\n",
       "</style>\n",
       "<table border=\"1\" class=\"dataframe\">\n",
       "  <thead>\n",
       "    <tr style=\"text-align: right;\">\n",
       "      <th></th>\n",
       "      <th>price</th>\n",
       "      <th>qty</th>\n",
       "      <th>time</th>\n",
       "      <th>isBuyerMaker</th>\n",
       "      <th>quote</th>\n",
       "    </tr>\n",
       "  </thead>\n",
       "  <tbody>\n",
       "    <tr>\n",
       "      <th>0</th>\n",
       "      <td>9.200000e-07</td>\n",
       "      <td>191.0</td>\n",
       "      <td>2021-08-06 00:00:24.912</td>\n",
       "      <td>False</td>\n",
       "      <td>0.000176</td>\n",
       "    </tr>\n",
       "    <tr>\n",
       "      <th>1</th>\n",
       "      <td>9.200000e-07</td>\n",
       "      <td>279.0</td>\n",
       "      <td>2021-08-06 00:04:32.583</td>\n",
       "      <td>False</td>\n",
       "      <td>0.000257</td>\n",
       "    </tr>\n",
       "    <tr>\n",
       "      <th>2</th>\n",
       "      <td>9.200000e-07</td>\n",
       "      <td>150.0</td>\n",
       "      <td>2021-08-06 00:13:27.992</td>\n",
       "      <td>False</td>\n",
       "      <td>0.000138</td>\n",
       "    </tr>\n",
       "    <tr>\n",
       "      <th>3</th>\n",
       "      <td>9.100000e-07</td>\n",
       "      <td>372.0</td>\n",
       "      <td>2021-08-06 00:22:03.915</td>\n",
       "      <td>True</td>\n",
       "      <td>0.000339</td>\n",
       "    </tr>\n",
       "    <tr>\n",
       "      <th>4</th>\n",
       "      <td>9.200000e-07</td>\n",
       "      <td>964.0</td>\n",
       "      <td>2021-08-06 00:29:20.558</td>\n",
       "      <td>False</td>\n",
       "      <td>0.000887</td>\n",
       "    </tr>\n",
       "  </tbody>\n",
       "</table>\n",
       "</div>"
      ],
      "text/plain": [
       "          price    qty                    time  isBuyerMaker     quote\n",
       "0  9.200000e-07  191.0 2021-08-06 00:00:24.912         False  0.000176\n",
       "1  9.200000e-07  279.0 2021-08-06 00:04:32.583         False  0.000257\n",
       "2  9.200000e-07  150.0 2021-08-06 00:13:27.992         False  0.000138\n",
       "3  9.100000e-07  372.0 2021-08-06 00:22:03.915          True  0.000339\n",
       "4  9.200000e-07  964.0 2021-08-06 00:29:20.558         False  0.000887"
      ]
     },
     "execution_count": 37,
     "metadata": {},
     "output_type": "execute_result"
    }
   ],
   "source": [
    "df: pd.DataFrame = load_data(pump=pump, lookback_delta=timedelta(days=30))\n",
    "df[\"quote\"] = df[\"price\"] * df[\"qty\"]\n",
    "df.head()"
   ]
  },
  {
   "cell_type": "markdown",
   "metadata": {},
   "source": [
    "<h4>Create features. 26-05</h4>"
   ]
  },
  {
   "cell_type": "code",
   "execution_count": 38,
   "metadata": {},
   "outputs": [
    {
     "data": {
      "text/html": [
       "<div>\n",
       "<style scoped>\n",
       "    .dataframe tbody tr th:only-of-type {\n",
       "        vertical-align: middle;\n",
       "    }\n",
       "\n",
       "    .dataframe tbody tr th {\n",
       "        vertical-align: top;\n",
       "    }\n",
       "\n",
       "    .dataframe thead th {\n",
       "        text-align: right;\n",
       "    }\n",
       "</style>\n",
       "<table border=\"1\" class=\"dataframe\">\n",
       "  <thead>\n",
       "    <tr style=\"text-align: right;\">\n",
       "      <th></th>\n",
       "      <th>time</th>\n",
       "      <th>price_first</th>\n",
       "      <th>price_last</th>\n",
       "      <th>price_max</th>\n",
       "      <th>price_min</th>\n",
       "      <th>qty_sign</th>\n",
       "      <th>qty_abs</th>\n",
       "      <th>quote_sign</th>\n",
       "      <th>quote_abs</th>\n",
       "      <th>is_long</th>\n",
       "      <th>quote_long</th>\n",
       "      <th>quote_short</th>\n",
       "    </tr>\n",
       "  </thead>\n",
       "  <tbody>\n",
       "    <tr>\n",
       "      <th>0</th>\n",
       "      <td>2021-08-06 00:00:24.912</td>\n",
       "      <td>9.200000e-07</td>\n",
       "      <td>9.200000e-07</td>\n",
       "      <td>9.200000e-07</td>\n",
       "      <td>9.200000e-07</td>\n",
       "      <td>191.0</td>\n",
       "      <td>191.0</td>\n",
       "      <td>0.000176</td>\n",
       "      <td>0.000176</td>\n",
       "      <td>True</td>\n",
       "      <td>0.000176</td>\n",
       "      <td>0.0</td>\n",
       "    </tr>\n",
       "    <tr>\n",
       "      <th>1</th>\n",
       "      <td>2021-08-06 00:04:32.583</td>\n",
       "      <td>9.200000e-07</td>\n",
       "      <td>9.200000e-07</td>\n",
       "      <td>9.200000e-07</td>\n",
       "      <td>9.200000e-07</td>\n",
       "      <td>279.0</td>\n",
       "      <td>279.0</td>\n",
       "      <td>0.000257</td>\n",
       "      <td>0.000257</td>\n",
       "      <td>True</td>\n",
       "      <td>0.000257</td>\n",
       "      <td>0.0</td>\n",
       "    </tr>\n",
       "  </tbody>\n",
       "</table>\n",
       "</div>"
      ],
      "text/plain": [
       "                     time   price_first    price_last     price_max  \\\n",
       "0 2021-08-06 00:00:24.912  9.200000e-07  9.200000e-07  9.200000e-07   \n",
       "1 2021-08-06 00:04:32.583  9.200000e-07  9.200000e-07  9.200000e-07   \n",
       "\n",
       "      price_min  qty_sign  qty_abs  quote_sign  quote_abs  is_long  \\\n",
       "0  9.200000e-07     191.0    191.0    0.000176   0.000176     True   \n",
       "1  9.200000e-07     279.0    279.0    0.000257   0.000257     True   \n",
       "\n",
       "   quote_long  quote_short  \n",
       "0    0.000176          0.0  \n",
       "1    0.000257          0.0  "
      ]
     },
     "execution_count": 38,
     "metadata": {},
     "output_type": "execute_result"
    }
   ],
   "source": [
    "df[\"qty_sign\"] = (1 - 2 * df[\"isBuyerMaker\"]) * df[\"qty\"]\n",
    "df[\"quote_sign\"] = (1 - 2 * df[\"isBuyerMaker\"]) * df[\"quote\"]\n",
    "\n",
    "\n",
    "df_trades: pd.DataFrame = df.groupby(\"time\").agg(\n",
    "    price_first=(\"price\", \"first\"),\n",
    "    price_last=(\"price\", \"last\"),\n",
    "    price_max=(\"price\", \"max\"),\n",
    "    price_min=(\"price\", \"min\"),\n",
    "    qty_sign=(\"qty_sign\", \"sum\"),\n",
    "    qty_abs=(\"qty\", \"sum\"),\n",
    "    quote_sign=(\"quote_sign\", \"sum\"),\n",
    "    quote_abs=(\"quote\", \"sum\"),\n",
    ")\n",
    "\n",
    "df_trades[\"is_long\"] = df_trades[\"qty_sign\"] >= 0\n",
    "df_trades[\"quote_long\"] = df_trades[\"quote_abs\"] * df_trades[\"is_long\"]\n",
    "df_trades[\"quote_short\"] = df_trades[\"quote_abs\"] * ~df_trades[\"is_long\"]\n",
    "\n",
    "df_trades = df_trades.reset_index()\n",
    "df_trades.head(2)"
   ]
  },
  {
   "cell_type": "markdown",
   "metadata": {},
   "source": [
    "<h4>Draw seconds candlestick plot</h4>"
   ]
  },
  {
   "cell_type": "code",
   "execution_count": 39,
   "metadata": {},
   "outputs": [
    {
     "data": {
      "text/html": [
       "<div>\n",
       "<style scoped>\n",
       "    .dataframe tbody tr th:only-of-type {\n",
       "        vertical-align: middle;\n",
       "    }\n",
       "\n",
       "    .dataframe tbody tr th {\n",
       "        vertical-align: top;\n",
       "    }\n",
       "\n",
       "    .dataframe thead th {\n",
       "        text-align: right;\n",
       "    }\n",
       "</style>\n",
       "<table border=\"1\" class=\"dataframe\">\n",
       "  <thead>\n",
       "    <tr style=\"text-align: right;\">\n",
       "      <th></th>\n",
       "      <th>open</th>\n",
       "      <th>close</th>\n",
       "      <th>low</th>\n",
       "      <th>high</th>\n",
       "      <th>volume</th>\n",
       "    </tr>\n",
       "    <tr>\n",
       "      <th>time</th>\n",
       "      <th></th>\n",
       "      <th></th>\n",
       "      <th></th>\n",
       "      <th></th>\n",
       "      <th></th>\n",
       "    </tr>\n",
       "  </thead>\n",
       "  <tbody>\n",
       "    <tr>\n",
       "      <th>2021-09-05 16:59:08</th>\n",
       "      <td>0.000002</td>\n",
       "      <td>0.000002</td>\n",
       "      <td>0.000002</td>\n",
       "      <td>0.000002</td>\n",
       "      <td>0.001036</td>\n",
       "    </tr>\n",
       "  </tbody>\n",
       "</table>\n",
       "</div>"
      ],
      "text/plain": [
       "                         open     close       low      high    volume\n",
       "time                                                                 \n",
       "2021-09-05 16:59:08  0.000002  0.000002  0.000002  0.000002  0.001036"
      ]
     },
     "execution_count": 39,
     "metadata": {},
     "output_type": "execute_result"
    }
   ],
   "source": [
    "df_plot: pd.DataFrame = df_trades[\n",
    "    (df_trades[\"time\"] >= pump.time - timedelta(seconds=60)) &\n",
    "    (df_trades[\"time\"] <= pump.time + timedelta(seconds=20))\n",
    "].copy()\n",
    "\n",
    "\n",
    "df_candles_1s = df_plot.resample(on=\"time\", rule=\"1s\").agg(\n",
    "    open=(\"price_first\", \"first\"),\n",
    "    close=(\"price_last\", \"last\"),\n",
    "    low=(\"price_min\", \"min\"),\n",
    "    high=(\"price_max\", \"max\"),\n",
    "    volume=(\"quote_abs\", \"sum\")\n",
    ")\n",
    "\n",
    "df_candles_1s.head(1)"
   ]
  },
  {
   "cell_type": "code",
   "execution_count": 41,
   "metadata": {},
   "outputs": [
    {
     "data": {
      "image/png": "[encoded data removed]",
      "text/plain": [
       "<Figure size 1000x400 with 4 Axes>"
      ]
     },
     "metadata": {},
     "output_type": "display_data"
    }
   ],
   "source": [
    "import mplfinance as mpf\n",
    "\n",
    "\n",
    "mpf.plot(\n",
    "    df_candles_1s, type=\"candle\", style=\"yahoo\", volume=True,\n",
    "    title=f\"Pump: {pump.ticker} - {pump.time}\", figsize=(10, 4),\n",
    "    datetime_format=\"%H:%M:%S\"\n",
    ")"
   ]
  },
  {
   "cell_type": "markdown",
   "metadata": {},
   "source": [
    "<h4>BTC slippage</h4>\n",
    "\n",
    "$$\\text{BTC\\_lost\\_to\\_slippage} = \\underbrace{\\sum_{i=1}^{N}{\\text{qty\\_sign}_i} \\cdot P_i}_{\\text{Quote actually spent}} - \\underbrace{\\sum_{i=1}^N{\\text{qty\\_sign}_i} \\cdot P_0}_{\\text{Quote could have been spent if filled at best price}}$$"
   ]
  },
  {
   "cell_type": "code",
   "execution_count": 6,
   "metadata": {},
   "outputs": [],
   "source": [
    "df_trades[\"quote_slippage_abs\"] = (\n",
    "    df_trades[\"quote_sign\"] - df_trades[\"qty_sign\"] * df_trades[\"price_first\"]\n",
    ")\n",
    "df_trades[\"quote_slippage_sign\"] = df_trades[\"quote_slippage_abs\"] * np.sign(df_trades[\"qty_sign\"])\n",
    "\n",
    "# Long, short quote slippage\n",
    "df_trades[\"quote_slippage_abs_long\"] = df_trades[\"quote_slippage_abs\"] * df_trades[\"is_long\"]\n",
    "df_trades[\"quote_slippage_abs_short\"] = df_trades[\"quote_slippage_abs\"] * ~df_trades[\"is_long\"]"
   ]
  },
  {
   "cell_type": "code",
   "execution_count": 7,
   "metadata": {},
   "outputs": [
    {
     "data": {
      "image/png": "[encoded data removed]",
      "text/plain": [
       "<Figure size 2000x400 with 1 Axes>"
      ]
     },
     "metadata": {},
     "output_type": "display_data"
    }
   ],
   "source": [
    "df_trades.plot.scatter(x=\"time\", y=\"quote_slippage_sign\", figsize=(20, 4))\n",
    "plt.title(\"Quote slippage for rush trades\")\n",
    "plt.axvline(x=pump.time, color=\"red\", linestyle=\"--\")\n",
    "plt.show()"
   ]
  },
  {
   "cell_type": "code",
   "execution_count": 8,
   "metadata": {},
   "outputs": [],
   "source": [
    "time_ub: pd.Timestamp = pump.time.floor(\"1h\") - timedelta(hours=1)\n",
    "\n",
    "df_train = df_trades[df_trades[\"time\"] <= time_ub].copy()"
   ]
  },
  {
   "cell_type": "markdown",
   "metadata": {},
   "source": [
    "<h4>Features calculated over shorter time frame</h4>"
   ]
  },
  {
   "cell_type": "code",
   "execution_count": 9,
   "metadata": {},
   "outputs": [
    {
     "data": {
      "text/plain": [
       "96"
      ]
     },
     "execution_count": 9,
     "metadata": {},
     "output_type": "execute_result"
    }
   ],
   "source": [
    "# Interval based features\n",
    "\n",
    "hour_bins: List[int] = [1, 3, 12, 24, 36, 48, 60, 72]\n",
    "\n",
    "df_72h = df_trades[\n",
    "    df_trades[\"time\"] >= time_ub - timedelta(hours=72)\n",
    "].copy()\n",
    "\n",
    "df_num_trades_72h: pd.DataFrame = df_72h.resample(on=\"time\", rule=\"5min\").agg(\n",
    "    num_trades=(\"is_long\", \"count\")\n",
    ")\n",
    "\n",
    "\n",
    "features_3d: Dict[str, float] = {}\n",
    "\n",
    "\n",
    "for hour in hour_bins:\n",
    "    df_interval: pd.DataFrame = df_train[df_train[\"time\"] >= time_ub - timedelta(hours=hour)].copy()\n",
    "\n",
    "    # Number of trades features\n",
    "    long_short_trades_ratio: float = df_interval[\"is_long\"].sum() / (~df_interval[\"is_long\"]).sum()\n",
    "    long_trades_share: float = df_interval[\"is_long\"].sum() / df_72h[\"is_long\"].sum() # share of long trades within this bin from 72hours\n",
    "    short_trades_share: float = (~df_interval[\"is_long\"]).sum() / (~df_72h[\"is_long\"]).sum() # share of short trades within bin from 72hours\n",
    "\n",
    "    # Volume features in quote assets\n",
    "    long_quote_volume_share: float = df_interval[\"quote_long\"].sum() / df_72h[\"quote_long\"].sum() # share of long volume from 72 hours\n",
    "    short_quote_volume_share: float = df_interval[\"quote_short\"].sum() / df_72h[\"quote_short\"].sum()\n",
    "\n",
    "    # Imbalance ratio\n",
    "    imbalance_ratio: float = df_interval[\"quote_sign\"].sum() / df_interval[\"quote_abs\"].sum()\n",
    "\n",
    "    # Quote slippages\n",
    "    quote_slippage_imbalance_ratio: float = df_interval[\"quote_slippage_sign\"].sum() / df_interval[\"quote_slippage_abs\"].sum()\n",
    "    quote_slippage_share: float = df_interval[\"quote_slippage_abs\"].sum() / df_72h[\"quote_slippage_abs\"].sum()\n",
    "    quote_slippage_long_short_ratio: float = (\n",
    "        df_interval[\"quote_slippage_abs_long\"].sum() / df_interval[\"quote_slippage_abs_short\"].sum()\n",
    "    )\n",
    "    quote_slippage_long_share: float = df_interval[\"quote_slippage_abs_long\"].sum() / df_72h[\"quote_slippage_abs_long\"]\n",
    "    \n",
    "    # Share of slippages in overall volume\n",
    "    quote_slippage_quote_share: float = df_interval[\"quote_slippage_abs\"].sum() / df_interval[\"quote_abs\"].sum()\n",
    "\n",
    "    # Empty trading bins - count how many trading bins were empty (no trades)\n",
    "    df_num_trades: pd.DataFrame = df_interval.resample(on=\"time\", rule=\"5min\").agg(\n",
    "        num_trades=(\"is_long\", \"count\")\n",
    "    )\n",
    "    empty_5m_bins_share = df_num_trades[df_num_trades[\"num_trades\"] == 0].shape[0] / df_num_trades.shape[0]\n",
    "\n",
    "    # Do the same but over 72h\n",
    "    empty_5m_bins_share_72h = (\n",
    "        df_num_trades[df_num_trades[\"num_trades\"] == 0].shape[0] / \n",
    "        df_num_trades_72h[df_num_trades_72h[\"num_trades\"] == 0].shape[0]\n",
    "    )\n",
    "\n",
    "\n",
    "    # Add features\n",
    "    features_3d.update({\n",
    "        f\"long_short_trades_ratio_{hour}h\": long_short_trades_ratio,\n",
    "        f\"long_trades_share_{hour}h_72H\": long_trades_share,\n",
    "        f\"short_trades_share_{hour}h_72H\": short_trades_share,\n",
    "\n",
    "        f\"long_quote_volume_share_{hour}h_72H\": long_quote_volume_share,\n",
    "        f\"short_quote_volume_share_{hour}h_72H\": short_quote_volume_share,\n",
    "\n",
    "        f\"imbalance_ratio_{hour}h\": imbalance_ratio,\n",
    "\n",
    "        f\"quote_slippage_imbalance_ratio_{hour}h\": quote_slippage_imbalance_ratio,\n",
    "        f\"quote_slippage_share_{hour}h_72H\": quote_slippage_share,\n",
    "        f\"quote_slippage_long_short_ratio_{hour}h\": quote_slippage_long_short_ratio,\n",
    "        f\"quote_slippage_quote_share_{hour}h_72H\": quote_slippage_quote_share,\n",
    "\n",
    "        f\"empty_5m_bins_share_{hour}h\": empty_5m_bins_share,\n",
    "        f\"empty_5m_bins_share_{hour}h_72H\": empty_5m_bins_share_72h\n",
    "    })\n",
    "\n",
    "len(features_3d)"
   ]
  },
  {
   "cell_type": "markdown",
   "metadata": {},
   "source": [
    "<h4>Powerlaw features (daily bins)</h4>"
   ]
  },
  {
   "cell_type": "code",
   "execution_count": 10,
   "metadata": {},
   "outputs": [
    {
     "name": "stderr",
     "output_type": "stream",
     "text": [
      "d:\\Pumps\\env\\Lib\\site-packages\\scipy\\stats\\_continuous_distns.py:8410: RuntimeWarning: overflow encountered in divide\n",
      "  return (shape - 1) * np.sum(1 / (loc - data))  # -1/(data-loc)\n",
      "d:\\Pumps\\env\\Lib\\site-packages\\numpy\\core\\fromnumeric.py:88: RuntimeWarning: overflow encountered in reduce\n",
      "  return ufunc.reduce(obj, axis, dtype, out, **passkwargs)\n"
     ]
    },
    {
     "data": {
      "text/plain": [
       "18"
      ]
     },
     "execution_count": 10,
     "metadata": {},
     "output_type": "execute_result"
    }
   ],
   "source": [
    "from scipy.stats import powerlaw\n",
    "\n",
    "\n",
    "daily_bins: List[int] = [1, 2, 3, 5, 7, 14]\n",
    "features_powerlaw: Dict[str, float] = {}\n",
    "\n",
    "\n",
    "for days in daily_bins:\n",
    "    df_interval: pd.DataFrame = df_train[df_train[\"time\"] >= time_ub - timedelta(days=days)].copy()\n",
    "\n",
    "    alpha_quote_abs: float = powerlaw.fit(df_interval[\"quote_abs\"])[0]\n",
    "    alpha_quote_abs_long: float = powerlaw.fit(df_interval[\"quote_long\"])[0]\n",
    "    alpha_quote_abs_short: float = powerlaw.fit(df_interval[\"quote_short\"])[0]\n",
    "\n",
    "    features_powerlaw.update({\n",
    "        f\"alpha_quote_abs_{days}d\": alpha_quote_abs,\n",
    "        f\"alpha_quote_abs_long_{days}d\": alpha_quote_abs_long,\n",
    "        f\"alpha_quote_abs_short_{days}d\": alpha_quote_abs_short\n",
    "    })\n",
    "\n",
    "\n",
    "len(features_powerlaw)"
   ]
  },
  {
   "cell_type": "markdown",
   "metadata": {},
   "source": [
    "<h4>Quote interval features: Quantile ratios</h4>"
   ]
  },
  {
   "cell_type": "code",
   "execution_count": 11,
   "metadata": {},
   "outputs": [
    {
     "data": {
      "image/png": "[encoded data removed]",
      "text/plain": [
       "<Figure size 2000x400 with 1 Axes>"
      ]
     },
     "metadata": {},
     "output_type": "display_data"
    }
   ],
   "source": [
    "df_72h.plot.scatter(x=\"time\", y=\"quote_sign\", figsize=(20, 4))\n",
    "plt.title(\"Quote signed for rush trades\")\n",
    "plt.axvline(x=pump.time, color=\"red\", linestyle=\"--\")\n",
    "plt.show()"
   ]
  },
  {
   "cell_type": "code",
   "execution_count": 12,
   "metadata": {},
   "outputs": [
    {
     "data": {
      "text/plain": [
       "30"
      ]
     },
     "execution_count": 12,
     "metadata": {},
     "output_type": "execute_result"
    }
   ],
   "source": [
    "daily_bins: List[int] = [1, 2, 3, 5, 7, 14]\n",
    "features_quantiles: Dict[str, float] = {}\n",
    "\n",
    "\n",
    "for days in daily_bins:\n",
    "\n",
    "    df_interval: pd.DataFrame = df_train[df_train[\"time\"] >= time_ub - timedelta(days=days)].copy()\n",
    "\n",
    "    quote_sign_kurt: float = df_interval[\"quote_sign\"].kurt()\n",
    "    quote_sign_skew: float = df_interval[\"quote_sign\"].skew()\n",
    "\n",
    "    # Find quote long short quantiles\n",
    "    quote_long_999_quantile: float = df_interval[\"quote_long\"].quantile(.999)\n",
    "    quote_short_999_quantile: float = df_interval[\"quote_short\"].quantile(.999)\n",
    "\n",
    "    quote_long_99_quantile: float = df_interval[\"quote_long\"].quantile(.999)\n",
    "    quote_short_99_quantile: float = df_interval[\"quote_short\"].quantile(.999)\n",
    "\n",
    "    quote_long_95_quantile: float = df_interval[\"quote_long\"].quantile(.999)\n",
    "    quote_short_95_quantile: float = df_interval[\"quote_short\"].quantile(.999)\n",
    "\n",
    "    features_quantiles[f\"long_short_999_quantile_ratio_{days}d\"]= quote_long_999_quantile / quote_short_999_quantile\n",
    "    features_quantiles[f\"long_short_99_quantile_ratio_{days}d\"] = quote_long_99_quantile / quote_short_99_quantile\n",
    "    features_quantiles[f\"long_short_95_quantile_ratio_{days}d\"]= quote_long_95_quantile / quote_short_95_quantile\n",
    "\n",
    "    features_quantiles[f\"long_999_99_quantile_ratio_{days}d\"] = quote_long_999_quantile / quote_long_99_quantile\n",
    "    features_quantiles[f\"long_99_95_quantile_ratio_{days}d\"] = quote_long_99_quantile / quote_long_95_quantile\n",
    "\n",
    "\n",
    "len(features_quantiles)"
   ]
  },
  {
   "cell_type": "markdown",
   "metadata": {},
   "source": [
    "<h4>Hourly candles features</h4>"
   ]
  },
  {
   "cell_type": "code",
   "execution_count": 14,
   "metadata": {},
   "outputs": [
    {
     "data": {
      "text/html": [
       "<div>\n",
       "<style scoped>\n",
       "    .dataframe tbody tr th:only-of-type {\n",
       "        vertical-align: middle;\n",
       "    }\n",
       "\n",
       "    .dataframe tbody tr th {\n",
       "        vertical-align: top;\n",
       "    }\n",
       "\n",
       "    .dataframe thead th {\n",
       "        text-align: right;\n",
       "    }\n",
       "</style>\n",
       "<table border=\"1\" class=\"dataframe\">\n",
       "  <thead>\n",
       "    <tr style=\"text-align: right;\">\n",
       "      <th></th>\n",
       "      <th>time</th>\n",
       "      <th>open</th>\n",
       "      <th>close</th>\n",
       "      <th>low</th>\n",
       "      <th>high</th>\n",
       "      <th>num_trades</th>\n",
       "      <th>num_long_trades</th>\n",
       "      <th>quote_abs</th>\n",
       "      <th>quote_sign</th>\n",
       "      <th>quote_long</th>\n",
       "      <th>quote_slippage_abs</th>\n",
       "      <th>quote_slippage_sign</th>\n",
       "    </tr>\n",
       "  </thead>\n",
       "  <tbody>\n",
       "    <tr>\n",
       "      <th>0</th>\n",
       "      <td>2019-01-28 17:00:00</td>\n",
       "      <td>0.000012</td>\n",
       "      <td>0.000012</td>\n",
       "      <td>0.000012</td>\n",
       "      <td>0.000012</td>\n",
       "      <td>112</td>\n",
       "      <td>68</td>\n",
       "      <td>2.430417</td>\n",
       "      <td>-0.509226</td>\n",
       "      <td>0.960595</td>\n",
       "      <td>0.00391</td>\n",
       "      <td>-0.002742</td>\n",
       "    </tr>\n",
       "  </tbody>\n",
       "</table>\n",
       "</div>"
      ],
      "text/plain": [
       "                 time      open     close       low      high  num_trades  \\\n",
       "0 2019-01-28 17:00:00  0.000012  0.000012  0.000012  0.000012         112   \n",
       "\n",
       "   num_long_trades  quote_abs  quote_sign  quote_long  quote_slippage_abs  \\\n",
       "0               68   2.430417   -0.509226    0.960595             0.00391   \n",
       "\n",
       "   quote_slippage_sign  \n",
       "0            -0.002742  "
      ]
     },
     "execution_count": 14,
     "metadata": {},
     "output_type": "execute_result"
    }
   ],
   "source": [
    "df_candles_1h: pd.DataFrame = df_train.resample(\n",
    "    on=\"time\", rule=\"1h\", label=\"left\", closed=\"left\"\n",
    ").agg(\n",
    "    open=(\"price_first\", \"first\"),\n",
    "    close=(\"price_last\", \"last\"),\n",
    "    low=(\"price_min\", \"min\"),\n",
    "    high=(\"price_max\", \"max\"),\n",
    "    num_trades=(\"quote_abs\", \"count\"),\n",
    "    num_long_trades=(\"is_long\", \"sum\"),\n",
    "    quote_abs=(\"quote_abs\", \"sum\"),\n",
    "    quote_sign=(\"quote_sign\", \"sum\"),\n",
    "    quote_long=(\"quote_long\", \"sum\"),\n",
    "    quote_slippage_abs=(\"quote_slippage_abs\", \"sum\"),\n",
    "    quote_slippage_sign=(\"quote_slippage_sign\", \"sum\")\n",
    ").reset_index()\n",
    "\n",
    "df_candles_1h.head(1)"
   ]
  },
  {
   "cell_type": "code",
   "execution_count": 15,
   "metadata": {},
   "outputs": [
    {
     "data": {
      "text/html": [
       "<div>\n",
       "<style scoped>\n",
       "    .dataframe tbody tr th:only-of-type {\n",
       "        vertical-align: middle;\n",
       "    }\n",
       "\n",
       "    .dataframe tbody tr th {\n",
       "        vertical-align: top;\n",
       "    }\n",
       "\n",
       "    .dataframe thead th {\n",
       "        text-align: right;\n",
       "    }\n",
       "</style>\n",
       "<table border=\"1\" class=\"dataframe\">\n",
       "  <thead>\n",
       "    <tr style=\"text-align: right;\">\n",
       "      <th></th>\n",
       "      <th>index</th>\n",
       "      <th>time</th>\n",
       "      <th>open</th>\n",
       "      <th>close</th>\n",
       "      <th>low</th>\n",
       "      <th>high</th>\n",
       "      <th>num_trades</th>\n",
       "      <th>num_long_trades</th>\n",
       "      <th>quote_abs</th>\n",
       "      <th>quote_sign</th>\n",
       "      <th>quote_long</th>\n",
       "      <th>quote_slippage_abs</th>\n",
       "      <th>quote_slippage_sign</th>\n",
       "      <th>log_returns</th>\n",
       "    </tr>\n",
       "  </thead>\n",
       "  <tbody>\n",
       "    <tr>\n",
       "      <th>0</th>\n",
       "      <td>1</td>\n",
       "      <td>2019-01-28 18:00:00</td>\n",
       "      <td>0.000012</td>\n",
       "      <td>0.000012</td>\n",
       "      <td>0.000012</td>\n",
       "      <td>0.000012</td>\n",
       "      <td>100</td>\n",
       "      <td>42</td>\n",
       "      <td>1.846777</td>\n",
       "      <td>0.002435</td>\n",
       "      <td>0.923473</td>\n",
       "      <td>0.001466</td>\n",
       "      <td>0.000815</td>\n",
       "      <td>0.00081</td>\n",
       "    </tr>\n",
       "  </tbody>\n",
       "</table>\n",
       "</div>"
      ],
      "text/plain": [
       "   index                time      open     close       low      high  \\\n",
       "0      1 2019-01-28 18:00:00  0.000012  0.000012  0.000012  0.000012   \n",
       "\n",
       "   num_trades  num_long_trades  quote_abs  quote_sign  quote_long  \\\n",
       "0         100               42   1.846777    0.002435    0.923473   \n",
       "\n",
       "   quote_slippage_abs  quote_slippage_sign  log_returns  \n",
       "0            0.001466             0.000815      0.00081  "
      ]
     },
     "execution_count": 15,
     "metadata": {},
     "output_type": "execute_result"
    }
   ],
   "source": [
    "# compute log returns\n",
    "df_candles_1h[\"close\"] = df_candles_1h[\"close\"].ffill()\n",
    "df_candles_1h[\"log_returns\"] = np.log(df_candles_1h[\"close\"] / df_candles_1h[\"close\"].shift(1))\n",
    "df_candles_1h = df_candles_1h.iloc[1:]\n",
    "df_candles_1h = df_candles_1h.reset_index()\n",
    "\n",
    "df_candles_1h.head(1)"
   ]
  },
  {
   "cell_type": "code",
   "execution_count": 22,
   "metadata": {},
   "outputs": [],
   "source": [
    "hour_bins: List[int] = [1, 3, 12, 24, 36, 48, 60, 72]\n",
    "\n",
    "df_candles_1h_72H = df_candles_1h[\n",
    "    df_candles_1h[\"time\"] >= time_ub - timedelta(hours=72)\n",
    "].copy()\n",
    "\n",
    "features_candles_1h: Dict[str, float] = {}\n",
    "\n",
    "\n",
    "for hour in hour_bins:\n",
    "    df_interval: pd.DataFrame = df_candles_1h[df_candles_1h[\"time\"] >= time_ub - timedelta(hours=hour)].copy()\n",
    "\n",
    "    features_candles_1h[f\"hourly_log_return_{hour}h_zscore_72H\"] = df_interval[\"log_returns\"].mean() / df_candles_1h_72H[\"log_returns\"].std()\n",
    "    features_candles_1h[f\"hourly_log_return_{hour}h_std\"] = df_interval[\"log_returns\"].std()\n",
    "\n",
    "    features_candles_1h[f\"hourly_volume_{hour}h_std_72H_std\"] = df_interval[\"quote_abs\"].std() / df_candles_1h_72H[\"quote_abs\"].std()"
   ]
  },
  {
   "cell_type": "code",
   "execution_count": 23,
   "metadata": {},
   "outputs": [
    {
     "data": {
      "text/plain": [
       "{'hourly_log_return_1h_zscore_72H': -0.2701678874223628,\n",
       " 'hourly_log_return_1h_std': nan,\n",
       " 'hourly_volume_1h_std_72H_std': nan,\n",
       " 'hourly_log_return_3h_zscore_72H': -0.06006094815967925,\n",
       " 'hourly_log_return_3h_std': 0.0038774348939521696,\n",
       " 'hourly_volume_3h_std_72H_std': 0.5400161933615909,\n",
       " 'hourly_log_return_12h_zscore_72H': -0.06738298687894885,\n",
       " 'hourly_log_return_12h_std': 0.0035714584134066327,\n",
       " 'hourly_volume_12h_std_72H_std': 0.35540727129823935,\n",
       " 'hourly_log_return_24h_zscore_72H': -0.02622506093143866,\n",
       " 'hourly_log_return_24h_std': 0.004463247748420668,\n",
       " 'hourly_volume_24h_std_72H_std': 0.29780173036166874,\n",
       " 'hourly_log_return_36h_zscore_72H': 0.04794585909904866,\n",
       " 'hourly_log_return_36h_std': 0.010794937094155164,\n",
       " 'hourly_volume_36h_std_72H_std': 1.289077188922194,\n",
       " 'hourly_log_return_48h_zscore_72H': 0.06860033661185683,\n",
       " 'hourly_log_return_48h_std': 0.009834896444204254,\n",
       " 'hourly_volume_48h_std_72H_std': 1.1497323556329615,\n",
       " 'hourly_log_return_60h_zscore_72H': 0.05333427879010634,\n",
       " 'hourly_log_return_60h_std': 0.00903648336066673,\n",
       " 'hourly_volume_60h_std_72H_std': 1.0543607920527207,\n",
       " 'hourly_log_return_72h_zscore_72H': 0.05607796558598022,\n",
       " 'hourly_log_return_72h_std': 0.008746917388403035,\n",
       " 'hourly_volume_72h_std_72H_std': 1.0}"
      ]
     },
     "execution_count": 23,
     "metadata": {},
     "output_type": "execute_result"
    }
   ],
   "source": [
    "features_candles_1h"
   ]
  }
 ],
 "metadata": {
  "kernelspec": {
   "display_name": "env",
   "language": "python",
   "name": "python3"
  },
  "language_info": {
   "codemirror_mode": {
    "name": "ipython",
    "version": 3
   },
   "file_extension": ".py",
   "mimetype": "text/x-python",
   "name": "python",
   "nbconvert_exporter": "python",
   "pygments_lexer": "ipython3",
   "version": "3.12.1"
  }
 },
 "nbformat": 4,
 "nbformat_minor": 2
}
